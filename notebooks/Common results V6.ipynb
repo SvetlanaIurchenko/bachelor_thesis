{
 "cells": [
  {
   "cell_type": "code",
   "execution_count": 1,
   "id": "b73de111",
   "metadata": {},
   "outputs": [],
   "source": [
    "import pandas as pd\n",
    "import os\n",
    "import numpy as np\n",
    "import matplotlib.pyplot as plt\n",
    "import seaborn as sns"
   ]
  },
  {
   "cell_type": "code",
   "execution_count": 2,
   "id": "d1680b2a",
   "metadata": {},
   "outputs": [
    {
     "data": {
      "text/plain": [
       "'Electrophysiology — копия'"
      ]
     },
     "execution_count": 2,
     "metadata": {},
     "output_type": "execute_result"
    }
   ],
   "source": [
    "import pathlib\n",
    "pathlib.Path().absolute().stem"
   ]
  },
  {
   "cell_type": "code",
   "execution_count": 3,
   "id": "e9cc1a16",
   "metadata": {},
   "outputs": [
    {
     "data": {
      "text/plain": [
       "['C:\\\\Users\\\\Admin\\\\Desktop\\\\Внесин',\n",
       " 'передача\\\\Electrophysiology',\n",
       " '—',\n",
       " 'копия']"
      ]
     },
     "execution_count": 3,
     "metadata": {},
     "output_type": "execute_result"
    }
   ],
   "source": [
    "str(pathlib.Path().absolute()).split()"
   ]
  },
  {
   "cell_type": "code",
   "execution_count": 4,
   "id": "1abcae26",
   "metadata": {},
   "outputs": [],
   "source": [
    "if os.path.exists('common_res'):\n",
    "    pass\n",
    "else:\n",
    "    os.mkdir('common_res')"
   ]
  },
  {
   "cell_type": "code",
   "execution_count": 5,
   "id": "c45b51c5",
   "metadata": {},
   "outputs": [],
   "source": [
    "colors = {\n",
    "    'CTRL': (0, 30, 'green'),\n",
    "    'GABA1': (54, 72, 'blue'),\n",
    "    'GABA5': (100, 118, 'navy'),\n",
    "    'PTX': (162, 198, 'red')\n",
    "}"
   ]
  },
  {
   "cell_type": "code",
   "execution_count": 6,
   "id": "cda0bd44",
   "metadata": {},
   "outputs": [],
   "source": [
    "ctrl4m = ['Cell 1 ctrl 4m', 'Cell 2 ctrl 4m', 'Cell 3 ctrl 4m', 'Cell 4 ctrl 4m']\n",
    "ctrl8m = ['Cell 1 ctrl 8m', 'Cell 2 ctrl 8m', 'Cell 3 ctrl 8m', 'Cell 4 ctrl 8m']\n",
    "ad4m = ['Cell 1 ad 4m', 'Cell 2 ad 4m', 'Cell 3 ad 4m', 'Cell 4 ad 4m', 'Cell 5 ad 4m', 'Cell 6 ad 4m', 'Cell 7 ad 4m']\n",
    "ad8m = ['Cell 1 ad 8m', 'Cell 4 ad 8m', 'Cell 6 ad 8m']"
   ]
  },
  {
   "cell_type": "code",
   "execution_count": 7,
   "id": "96d9f94c",
   "metadata": {},
   "outputs": [],
   "source": [
    "files = [ctrl4m, ctrl8m, ad4m, ad8m]"
   ]
  },
  {
   "cell_type": "markdown",
   "id": "039c47d2",
   "metadata": {},
   "source": [
    "Electric cell parameters"
   ]
  },
  {
   "cell_type": "code",
   "execution_count": 16,
   "id": "ce01636a",
   "metadata": {},
   "outputs": [],
   "source": [
    "def sweep_seria_correspondence(x):\n",
    "    for k in colors.keys():\n",
    "        if colors[k][0] <= x <= colors[k][1]:\n",
    "            return k"
   ]
  },
  {
   "cell_type": "code",
   "execution_count": 30,
   "id": "91ea269d",
   "metadata": {},
   "outputs": [],
   "source": [
    "def read_electric_cell_parameters():\n",
    "    electric_param = {}\n",
    "    r_s = {}\n",
    "    r_in = {}\n",
    "    for f in files:\n",
    "        for item in f:\n",
    "            electric_param[item] = pd.read_csv(f'C:\\\\Users\\\\Admin\\\\Desktop\\\\Внесин передача\\\\project_sipscs\\\\reports\\\\recordings\\\\{item}\\electric_cell_param.csv')\n",
    "            r_s[item] = np.array(electric_param[item]['R_s, Mohm'])\n",
    "            r_in[item] = np.array(electric_param[item]['R_in, Mohm'])\n",
    "            \n",
    "    dict_df_r_s = {}\n",
    "    for k in r_s.keys():\n",
    "        dict_df_r_s[k] = pd.DataFrame.from_dict(r_s[k])\n",
    "        \n",
    "    dict_df_r_in = {}\n",
    "    for k in r_in.keys():\n",
    "        dict_df_r_in[k] = pd.DataFrame.from_dict(r_in[k])\n",
    "\n",
    "    for k, v in dict_df_r_s.items():\n",
    "        v['sweep_number'] = [i for i in range(len(r_s[k]))]\n",
    "        v['series'] = v.sweep_number.apply(sweep_seria_correspondence)\n",
    "    \n",
    "    for k, v in dict_df_r_in.items():\n",
    "        v['sweep_number'] = [i for i in range(len(r_in[k]))]\n",
    "        v['series'] = v.sweep_number.apply(sweep_seria_correspondence)\n",
    "    \n",
    "    return dict_df_r_s, dict_df_r_in   "
   ]
  },
  {
   "cell_type": "code",
   "execution_count": 31,
   "id": "84beea29",
   "metadata": {},
   "outputs": [],
   "source": [
    "dict_df_r_s, dict_df_r_in = read_electric_cell_parameters()"
   ]
  },
  {
   "cell_type": "code",
   "execution_count": 27,
   "id": "7edf02b4",
   "metadata": {},
   "outputs": [
    {
     "data": {
      "text/html": [
       "<div>\n",
       "<style scoped>\n",
       "    .dataframe tbody tr th:only-of-type {\n",
       "        vertical-align: middle;\n",
       "    }\n",
       "\n",
       "    .dataframe tbody tr th {\n",
       "        vertical-align: top;\n",
       "    }\n",
       "\n",
       "    .dataframe thead th {\n",
       "        text-align: right;\n",
       "    }\n",
       "</style>\n",
       "<table border=\"1\" class=\"dataframe\">\n",
       "  <thead>\n",
       "    <tr style=\"text-align: right;\">\n",
       "      <th></th>\n",
       "      <th>0</th>\n",
       "      <th>sweep_number</th>\n",
       "      <th>series</th>\n",
       "    </tr>\n",
       "  </thead>\n",
       "  <tbody>\n",
       "    <tr>\n",
       "      <th>0</th>\n",
       "      <td>35.523659</td>\n",
       "      <td>0</td>\n",
       "      <td>CTRL</td>\n",
       "    </tr>\n",
       "    <tr>\n",
       "      <th>1</th>\n",
       "      <td>34.945906</td>\n",
       "      <td>1</td>\n",
       "      <td>CTRL</td>\n",
       "    </tr>\n",
       "    <tr>\n",
       "      <th>2</th>\n",
       "      <td>36.188645</td>\n",
       "      <td>2</td>\n",
       "      <td>CTRL</td>\n",
       "    </tr>\n",
       "    <tr>\n",
       "      <th>3</th>\n",
       "      <td>36.775904</td>\n",
       "      <td>3</td>\n",
       "      <td>CTRL</td>\n",
       "    </tr>\n",
       "    <tr>\n",
       "      <th>4</th>\n",
       "      <td>36.299189</td>\n",
       "      <td>4</td>\n",
       "      <td>CTRL</td>\n",
       "    </tr>\n",
       "    <tr>\n",
       "      <th>...</th>\n",
       "      <td>...</td>\n",
       "      <td>...</td>\n",
       "      <td>...</td>\n",
       "    </tr>\n",
       "    <tr>\n",
       "      <th>175</th>\n",
       "      <td>97.530950</td>\n",
       "      <td>175</td>\n",
       "      <td>PTX</td>\n",
       "    </tr>\n",
       "    <tr>\n",
       "      <th>176</th>\n",
       "      <td>104.127524</td>\n",
       "      <td>176</td>\n",
       "      <td>PTX</td>\n",
       "    </tr>\n",
       "    <tr>\n",
       "      <th>177</th>\n",
       "      <td>93.135744</td>\n",
       "      <td>177</td>\n",
       "      <td>PTX</td>\n",
       "    </tr>\n",
       "    <tr>\n",
       "      <th>178</th>\n",
       "      <td>109.012602</td>\n",
       "      <td>178</td>\n",
       "      <td>PTX</td>\n",
       "    </tr>\n",
       "    <tr>\n",
       "      <th>179</th>\n",
       "      <td>104.237711</td>\n",
       "      <td>179</td>\n",
       "      <td>PTX</td>\n",
       "    </tr>\n",
       "  </tbody>\n",
       "</table>\n",
       "<p>180 rows × 3 columns</p>\n",
       "</div>"
      ],
      "text/plain": [
       "              0  sweep_number series\n",
       "0     35.523659             0   CTRL\n",
       "1     34.945906             1   CTRL\n",
       "2     36.188645             2   CTRL\n",
       "3     36.775904             3   CTRL\n",
       "4     36.299189             4   CTRL\n",
       "..          ...           ...    ...\n",
       "175   97.530950           175    PTX\n",
       "176  104.127524           176    PTX\n",
       "177   93.135744           177    PTX\n",
       "178  109.012602           178    PTX\n",
       "179  104.237711           179    PTX\n",
       "\n",
       "[180 rows x 3 columns]"
      ]
     },
     "execution_count": 27,
     "metadata": {},
     "output_type": "execute_result"
    }
   ],
   "source": [
    "dict_df_r_s['Cell 1 ctrl 4m']"
   ]
  },
  {
   "cell_type": "code",
   "execution_count": 48,
   "id": "99e0cc5a",
   "metadata": {},
   "outputs": [],
   "source": [
    "def common_statistic(dict_df_r_s):\n",
    "    r_s_mean = {}\n",
    "    for k in dict_df_r_s.keys():\n",
    "        r_s_mean_temp = []\n",
    "        for c in colors.keys():\n",
    "            r_s_mean_temp.append(dict_df_r_s[k].loc[dict_df_r_s[k]['series'] == c].describe()[0][1])\n",
    "        r_s_mean[k] = r_s_mean_temp\n",
    "    return r_s_mean"
   ]
  },
  {
   "cell_type": "code",
   "execution_count": 54,
   "id": "500750e5",
   "metadata": {},
   "outputs": [],
   "source": [
    "r_s_common_stat = common_statistic(dict_df_r_s)"
   ]
  },
  {
   "cell_type": "code",
   "execution_count": 105,
   "id": "ccfa7692",
   "metadata": {},
   "outputs": [],
   "source": [
    "def create_table_for_boxplot(r_s_common_stat, colors, value_name):\n",
    "    r_s_common_stats_res_df = pd.DataFrame(columns=['filename', 'mice_type', 'mice_age'] + list(colors.keys()))\n",
    "    for i, (key, val) in enumerate(r_s_common_stat.items()):\n",
    "        mice_type = key.split()[2].upper()\n",
    "        mice_age = key.split()[3]\n",
    "        r_s_common_stats_res_df.loc[i] = [key, mice_type, mice_age] + val\n",
    "    r_s_final = r_s_common_stats_res_df.melt(id_vars=['filename', 'mice_type', 'mice_age'], \n",
    "                            value_vars=list(colors.keys()),\n",
    "                            var_name='series',\n",
    "                            value_name=value_name)\n",
    "    return r_s_final"
   ]
  },
  {
   "cell_type": "code",
   "execution_count": 106,
   "id": "aacbb843",
   "metadata": {},
   "outputs": [],
   "source": [
    "r_s_final = create_table_for_boxplot(r_s_common_stat, colors, 'R_s')"
   ]
  },
  {
   "cell_type": "code",
   "execution_count": 86,
   "id": "0b4bc078",
   "metadata": {},
   "outputs": [],
   "source": [
    "def create_box_plot_with_hue(data, x,  y, hue):\n",
    "    plt.figure(figsize = (10, 10))\n",
    "    ax = sns.boxplot(data=data, x=x, y=y, hue=hue, linewidth = 1.3, showfliers=False)\n",
    "    ax.set_xlabel('series', fontsize=18)\n",
    "    ax.set_ylabel(y, fontsize=18);\n",
    "    plt.xticks(fontsize=12, rotation=0)\n",
    "    plt.yticks(fontsize=12, rotation=0)\n",
    "    plt.legend(fontsize=18)\n",
    "    return plt"
   ]
  },
  {
   "cell_type": "code",
   "execution_count": 111,
   "id": "edc274ce",
   "metadata": {},
   "outputs": [
    {
     "data": {
      "image/png": "[encoded data removed]",
      "text/plain": [
       "<Figure size 720x720 with 1 Axes>"
      ]
     },
     "metadata": {
      "needs_background": "light"
     },
     "output_type": "display_data"
    }
   ],
   "source": [
    "create_box_plot_with_hue(r_s_final[r_s_final.mice_age == '8m'].loc[r_s_final[r_s_final.mice_age == '8m']['series'] != 'CTRL']\n",
    "                         , 'series', \"R_s\", 'mice_type')\n",
    "plt.title('R_s 7-8 m.o.', fontsize=18)\n",
    "plt.show()"
   ]
  },
  {
   "cell_type": "code",
   "execution_count": 112,
   "id": "e0d0c0cf",
   "metadata": {},
   "outputs": [
    {
     "data": {
      "image/png": "[encoded data removed]",
      "text/plain": [
       "<Figure size 720x720 with 1 Axes>"
      ]
     },
     "metadata": {
      "needs_background": "light"
     },
     "output_type": "display_data"
    }
   ],
   "source": [
    "create_box_plot_with_hue(r_s_final[r_s_final.mice_age == '4m'].loc[r_s_final[r_s_final.mice_age == '4m']['series'] != 'CTRL']\n",
    "                         , 'series', \"R_s\", 'mice_type')\n",
    "plt.title('R_s 3-4 m.o.', fontsize=18)\n",
    "plt.show()"
   ]
  },
  {
   "cell_type": "code",
   "execution_count": 110,
   "id": "01f94c0a",
   "metadata": {},
   "outputs": [
    {
     "data": {
      "image/png": "[encoded data removed]",
      "text/plain": [
       "<Figure size 720x720 with 1 Axes>"
      ]
     },
     "metadata": {
      "needs_background": "light"
     },
     "output_type": "display_data"
    }
   ],
   "source": [
    "create_box_plot_with_hue(r_s_final.loc[r_s_final['series'] == 'CTRL']\n",
    "                         ,'mice_type', \"R_s\", 'mice_age')\n",
    "plt.title('R_s CTRL series', fontsize=18)\n",
    "plt.show()"
   ]
  },
  {
   "cell_type": "code",
   "execution_count": 102,
   "id": "3a9aeefc",
   "metadata": {},
   "outputs": [],
   "source": [
    "r_in_common_stat = common_statistic(dict_df_r_in)"
   ]
  },
  {
   "cell_type": "code",
   "execution_count": 107,
   "id": "b2166343",
   "metadata": {},
   "outputs": [],
   "source": [
    "r_in_final = create_table_for_boxplot(r_in_common_stat, colors, 'R_in')"
   ]
  },
  {
   "cell_type": "code",
   "execution_count": 108,
   "id": "80b9b929",
   "metadata": {},
   "outputs": [
    {
     "data": {
      "image/png": "[encoded data removed]",
      "text/plain": [
       "<Figure size 720x720 with 1 Axes>"
      ]
     },
     "metadata": {
      "needs_background": "light"
     },
     "output_type": "display_data"
    }
   ],
   "source": [
    "create_box_plot_with_hue(r_in_final[r_in_final.mice_age == '8m'].loc[r_in_final[r_s_final.mice_age == '8m']['series'] != 'CTRL']\n",
    "                         , 'series', \"R_in\", 'mice_type')\n",
    "plt.title('R_in 7-8 m.o.', fontsize=18)\n",
    "plt.show()"
   ]
  },
  {
   "cell_type": "code",
   "execution_count": null,
   "id": "afb8d2da",
   "metadata": {},
   "outputs": [],
   "source": []
  },
  {
   "cell_type": "code",
   "execution_count": null,
   "id": "be51d4ae",
   "metadata": {},
   "outputs": [],
   "source": []
  },
  {
   "cell_type": "markdown",
   "id": "0329ed4c",
   "metadata": {},
   "source": [
    "Baseline parameters"
   ]
  },
  {
   "cell_type": "markdown",
   "id": "7502dd9c",
   "metadata": {},
   "source": [
    "Holding current"
   ]
  },
  {
   "cell_type": "code",
   "execution_count": 115,
   "id": "db190aab",
   "metadata": {},
   "outputs": [],
   "source": [
    "baseline_param = {}\n",
    "I_hold = {}\n",
    "I_hold_noise = {}\n",
    "for f in files:\n",
    "    for item in f:\n",
    "        baseline_param[item] = pd.read_csv(f'C:\\\\Users\\\\Admin\\\\Desktop\\\\Внесин передача\\\\project_sipscs\\\\reports\\\\{item}\\_baseline_param.csv')\n",
    "        I_hold[item] = np.array(baseline_param[item]['Ihold, pA'])\n",
    "        I_hold_noise[item] = np.array(baseline_param[item]['Inoise, pA'])"
   ]
  },
  {
   "cell_type": "code",
   "execution_count": null,
   "id": "56ef4009",
   "metadata": {},
   "outputs": [],
   "source": []
  },
  {
   "cell_type": "code",
   "execution_count": null,
   "id": "1f4cc6bf",
   "metadata": {},
   "outputs": [],
   "source": []
  },
  {
   "cell_type": "markdown",
   "id": "5227a82b",
   "metadata": {},
   "source": [
    "Tonic current"
   ]
  },
  {
   "cell_type": "code",
   "execution_count": 116,
   "id": "2504142b",
   "metadata": {},
   "outputs": [],
   "source": [
    "tonic_cur = {}\n",
    "for f in files:\n",
    "    for item in f:\n",
    "        tonic_cur[item] = pd.read_csv(f'C:\\\\Users\\\\Admin\\\\Desktop\\\\Внесин передача\\\\project_sipscs\\\\reports\\\\{item}\\_tonic_cur.csv')"
   ]
  },
  {
   "cell_type": "code",
   "execution_count": 138,
   "id": "7a460969",
   "metadata": {},
   "outputs": [],
   "source": [
    "dict_df_tonic_cur = {}\n",
    "for k in tonic_cur.keys():\n",
    "    dict_df_tonic_cur[k] = list(tonic_cur[k]['Iton, pA'])"
   ]
  },
  {
   "cell_type": "code",
   "execution_count": 142,
   "id": "a338c4a8",
   "metadata": {},
   "outputs": [],
   "source": [
    "tonic_cur_common_stats_res_df = pd.DataFrame(columns=['filename', 'mice_type', 'mice_age'] + list(colors.keys())[1:])\n",
    "for i, (key, val) in enumerate(dict_df_tonic_cur.items()):\n",
    "    mice_type = key.split()[2].upper()\n",
    "    mice_age = key.split()[3]\n",
    "    tonic_cur_common_stats_res_df.loc[i] = [key, mice_type, mice_age] + val\n",
    "\n",
    "    \n",
    "tonic_cur_final = tonic_cur_common_stats_res_df.melt(id_vars=['filename', 'mice_type', 'mice_age'], \n",
    "                            value_vars=list(colors.keys())[1:],\n",
    "                            var_name='series',\n",
    "                            value_name='Iton, pA')"
   ]
  },
  {
   "cell_type": "code",
   "execution_count": null,
   "id": "109624a7",
   "metadata": {},
   "outputs": [],
   "source": []
  },
  {
   "cell_type": "markdown",
   "id": "6e4f3468",
   "metadata": {},
   "source": [
    "Event parameters"
   ]
  },
  {
   "cell_type": "code",
   "execution_count": 173,
   "id": "bcc47e38",
   "metadata": {},
   "outputs": [],
   "source": [
    "event_param = {}\n",
    "for f in files:\n",
    "    for item in f:\n",
    "        event_param[item] = pd.read_csv(f'C:\\\\Users\\\\Admin\\\\Desktop\\\\Внесин передача\\\\project_sipscs\\\\reports\\\\{item}\\event_param.csv')"
   ]
  },
  {
   "cell_type": "code",
   "execution_count": 182,
   "id": "90264dcb",
   "metadata": {},
   "outputs": [],
   "source": [
    "def event_param_processing(column, event_param):\n",
    "    amplitudes = {}\n",
    "    for k in event_param.keys():\n",
    "        ampl_temp = []\n",
    "        for c in list(colors.keys())[:3]:\n",
    "            ampl_temp.append(np.array(event_param[k].loc[event_param[k]['series'] == c][column]).mean())\n",
    "        amplitudes[k] = ampl_temp\n",
    "    return amplitudes"
   ]
  },
  {
   "cell_type": "code",
   "execution_count": 183,
   "id": "2e8050ed",
   "metadata": {
    "scrolled": true
   },
   "outputs": [
    {
     "name": "stderr",
     "output_type": "stream",
     "text": [
      "C:\\Users\\Admin\\AppData\\Local\\Temp\\ipykernel_332\\1239231801.py:6: RuntimeWarning: Mean of empty slice.\n",
      "  ampl_temp.append(np.array(event_param[k].loc[event_param[k]['series'] == c][column]).mean())\n"
     ]
    }
   ],
   "source": [
    "amplitudes = event_param_processing('amplitudes', event_param)"
   ]
  },
  {
   "cell_type": "code",
   "execution_count": 186,
   "id": "7f3f07b8",
   "metadata": {},
   "outputs": [
    {
     "name": "stderr",
     "output_type": "stream",
     "text": [
      "C:\\Users\\Admin\\AppData\\Local\\Temp\\ipykernel_332\\1239231801.py:6: RuntimeWarning: Mean of empty slice.\n",
      "  ampl_temp.append(np.array(event_param[k].loc[event_param[k]['series'] == c][column]).mean())\n",
      "C:\\Users\\Admin\\miniconda3\\lib\\site-packages\\numpy\\core\\_methods.py:189: RuntimeWarning: invalid value encountered in double_scalars\n",
      "  ret = ret.dtype.type(ret / rcount)\n"
     ]
    }
   ],
   "source": [
    "tau_decay = event_param_processing('tau_decay', event_param)"
   ]
  },
  {
   "cell_type": "code",
   "execution_count": 188,
   "id": "096f498b",
   "metadata": {},
   "outputs": [
    {
     "name": "stderr",
     "output_type": "stream",
     "text": [
      "C:\\Users\\Admin\\AppData\\Local\\Temp\\ipykernel_332\\1239231801.py:6: RuntimeWarning: Mean of empty slice.\n",
      "  ampl_temp.append(np.array(event_param[k].loc[event_param[k]['series'] == c][column]).mean())\n"
     ]
    }
   ],
   "source": [
    "rise_rate_10_90   = event_param_processing('rise_rate_10_90', event_param)"
   ]
  },
  {
   "cell_type": "code",
   "execution_count": 223,
   "id": "ebb4755a",
   "metadata": {},
   "outputs": [],
   "source": [
    "def create_table_for_boxplot_event_params(r_s_common_stat, colors, value_name):\n",
    "    r_s_common_stats_res_df = pd.DataFrame(columns=['filename', 'mice_type', 'mice_age'] + list(colors.keys())[:3])\n",
    "    for i, (key, val) in enumerate(r_s_common_stat.items()):\n",
    "        mice_type = key.split()[2].upper()\n",
    "        mice_age = key.split()[3]\n",
    "        r_s_common_stats_res_df.loc[i] = [key, mice_type, mice_age] + val\n",
    "    r_s_final = r_s_common_stats_res_df.melt(id_vars=['filename', 'mice_type', 'mice_age'], \n",
    "                            value_vars=list(colors.keys())[:3],\n",
    "                            var_name='series',\n",
    "                            value_name=value_name)\n",
    "    return r_s_final"
   ]
  },
  {
   "cell_type": "code",
   "execution_count": 224,
   "id": "b5ba8207",
   "metadata": {},
   "outputs": [],
   "source": [
    "amplitudes_final = create_table_for_boxplot_event_params(amplitudes, colors, 'amplitudes, pA')"
   ]
  },
  {
   "cell_type": "code",
   "execution_count": null,
   "id": "3629d7b2",
   "metadata": {},
   "outputs": [],
   "source": []
  },
  {
   "cell_type": "markdown",
   "id": "ed3b9f91",
   "metadata": {},
   "source": [
    "Spontaneous frequency"
   ]
  },
  {
   "cell_type": "code",
   "execution_count": 199,
   "id": "b76d26e1",
   "metadata": {},
   "outputs": [],
   "source": [
    "spont_freqs = {}\n",
    "for f in files:\n",
    "    for item in f:\n",
    "        spont_freqs[item] = pd.read_csv(f'C:\\\\Users\\\\Admin\\\\Desktop\\\\Внесин передача\\\\project_sipscs\\\\reports\\\\{item}\\spont_freqs.csv')"
   ]
  },
  {
   "cell_type": "code",
   "execution_count": 214,
   "id": "8776572c",
   "metadata": {},
   "outputs": [],
   "source": [
    "spont_freqs_mean = {}\n",
    "for k in spont_freqs.keys():\n",
    "    spont_freqs_mean_temp = []\n",
    "    for c in list(colors.keys())[:3]:\n",
    "        spont_freqs_mean_temp.append(spont_freqs[k].loc[spont_freqs[k]['series'] == c]['spont_freq'].describe()[1])\n",
    "    spont_freqs_mean[k] = spont_freqs_mean_temp"
   ]
  },
  {
   "cell_type": "code",
   "execution_count": 225,
   "id": "0287e3df",
   "metadata": {},
   "outputs": [],
   "source": [
    "spont_freqs_final = create_table_for_boxplot_event_params(spont_freqs_mean, colors, 'spont_freqs, Hz')"
   ]
  },
  {
   "cell_type": "code",
   "execution_count": null,
   "id": "62ab6edd",
   "metadata": {},
   "outputs": [],
   "source": []
  },
  {
   "cell_type": "code",
   "execution_count": null,
   "id": "0dadf1fb",
   "metadata": {},
   "outputs": [],
   "source": []
  }
 ],
 "metadata": {
  "kernelspec": {
   "display_name": "Python 3 (ipykernel)",
   "language": "python",
   "name": "python3"
  },
  "language_info": {
   "codemirror_mode": {
    "name": "ipython",
    "version": 3
   },
   "file_extension": ".py",
   "mimetype": "text/x-python",
   "name": "python",
   "nbconvert_exporter": "python",
   "pygments_lexer": "ipython3",
   "version": "3.9.7"
  }
 },
 "nbformat": 4,
 "nbformat_minor": 5
}
