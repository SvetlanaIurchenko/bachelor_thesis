{
 "cells": [
  {
   "cell_type": "code",
   "execution_count": 1,
   "id": "b73de111",
   "metadata": {},
   "outputs": [],
   "source": [
    "from functions import *\n",
    "\n",
    "%load_ext autoreload\n",
    "%autoreload 2"
   ]
  },
  {
   "cell_type": "code",
   "execution_count": 2,
   "id": "d1680b2a",
   "metadata": {},
   "outputs": [
    {
     "data": {
      "text/plain": [
       "'Electrophysiology — копия'"
      ]
     },
     "execution_count": 2,
     "metadata": {},
     "output_type": "execute_result"
    }
   ],
   "source": [
    "import pathlib\n",
    "pathlib.Path().absolute().stem"
   ]
  },
  {
   "cell_type": "code",
   "execution_count": 3,
   "id": "e9cc1a16",
   "metadata": {},
   "outputs": [
    {
     "data": {
      "text/plain": [
       "['C:\\\\Users\\\\Admin\\\\Desktop\\\\Внесин',\n",
       " 'передача\\\\Electrophysiology',\n",
       " '—',\n",
       " 'копия']"
      ]
     },
     "execution_count": 3,
     "metadata": {},
     "output_type": "execute_result"
    }
   ],
   "source": [
    "str(pathlib.Path().absolute()).split()"
   ]
  },
  {
   "cell_type": "code",
   "execution_count": 4,
   "id": "1abcae26",
   "metadata": {},
   "outputs": [],
   "source": [
    "if os.path.exists('common_res'):\n",
    "    pass\n",
    "else:\n",
    "    os.mkdir('common_res')"
   ]
  },
  {
   "cell_type": "code",
   "execution_count": 19,
   "id": "cda0bd44",
   "metadata": {},
   "outputs": [],
   "source": [
    "ctrl4m = ['Cell 1 ctrl 4m', 'Cell 2 ctrl 4m', 'Cell 3 ctrl 4m', 'Cell 4 ctrl 4m']\n",
    "ctrl8m = ['Cell 2 ctrl 8m', 'Cell 3 ctrl 8m', 'Cell 4 ctrl 8m', 'Cell 5 ctrl 8m']\n",
    "ad4m = ['Cell 1 ad 4m', 'Cell 2 ad 4m', 'Cell 3 ad 4m', 'Cell 4 ad 4m', 'Cell 5 ad 4m', 'Cell 6 ad 4m', 'Cell 7 ad 4m']\n",
    "ad8m = ['Cell 1 ad 8m', 'Cell 3 ad 8m', 'Cell 4 ad 8m', 'Cell 6 ad 8m', 'Cell 7 ad 8m']"
   ]
  },
  {
   "cell_type": "code",
   "execution_count": 22,
   "id": "96d9f94c",
   "metadata": {},
   "outputs": [],
   "source": [
    "files = [ctrl4m, ctrl8m, ad4m, ad8m]"
   ]
  },
  {
   "cell_type": "markdown",
   "id": "039c47d2",
   "metadata": {},
   "source": [
    "Electric cell parameters"
   ]
  },
  {
   "cell_type": "code",
   "execution_count": 23,
   "id": "a1e0570f",
   "metadata": {},
   "outputs": [],
   "source": [
    "electric_param = {}\n",
    "r_s = {}\n",
    "r_in = {}\n",
    "for f in files:\n",
    "    for item in f:\n",
    "        electric_param[item] = pd.read_csv(f'{item}\\electric_cell_param.csv')\n",
    "        r_s[item] = np.array(electric_param[item]['R_s, Mohm'])\n",
    "        r_in[item] = np.array(electric_param[item]['R_in, Mohm'])"
   ]
  },
  {
   "cell_type": "code",
   "execution_count": 24,
   "id": "9516d80c",
   "metadata": {},
   "outputs": [],
   "source": [
    "dict_df_r_s = {}\n",
    "for k in r_s.keys():\n",
    "    dict_df_r_s[k] = pd.DataFrame.from_dict(r_s[k])"
   ]
  },
  {
   "cell_type": "code",
   "execution_count": 25,
   "id": "3ae8ec6c",
   "metadata": {},
   "outputs": [],
   "source": [
    "start_ser = [0, 54, 100, 162]\n",
    "stop_ser = [30, 72, 118, 198]"
   ]
  },
  {
   "cell_type": "code",
   "execution_count": 26,
   "id": "cac812b4",
   "metadata": {},
   "outputs": [],
   "source": [
    "def series_numeration(x):\n",
    "    results_keys = ['CTRL', 'GABA1', 'GABA5', 'PTX']\n",
    "    for i in range(len(start_ser)):\n",
    "        if start_ser[i] <= x <= stop_ser[i]:\n",
    "            return results_keys[i]"
   ]
  },
  {
   "cell_type": "code",
   "execution_count": 27,
   "id": "abf206ce",
   "metadata": {},
   "outputs": [],
   "source": [
    "for k, v in dict_df_r_s.items():\n",
    "    v['sweep_number'] = [i for i in range(len(r_s[k]))]\n",
    "    v['series'] = v.sweep_number.apply(series_numeration)"
   ]
  },
  {
   "cell_type": "code",
   "execution_count": 28,
   "id": "0c2d5183",
   "metadata": {},
   "outputs": [
    {
     "data": {
      "text/plain": [
       "{'Cell 1 ctrl 4m':               0  sweep_number series\n",
       " 0     35.597064             0   CTRL\n",
       " 1     34.983952             1   CTRL\n",
       " 2     36.248685             2   CTRL\n",
       " 3     36.827937             3   CTRL\n",
       " 4     36.335021             4   CTRL\n",
       " ..          ...           ...    ...\n",
       " 175   97.851658           175    PTX\n",
       " 176  104.563283           176    PTX\n",
       " 177   93.405057           177    PTX\n",
       " 178  109.503858           178    PTX\n",
       " 179  104.643422           179    PTX\n",
       " \n",
       " [180 rows x 3 columns],\n",
       " 'Cell 2 ctrl 4m':               0  sweep_number series\n",
       " 0     40.552203             0   CTRL\n",
       " 1     44.701003             1   CTRL\n",
       " 2     43.921324             2   CTRL\n",
       " 3     43.653171             3   CTRL\n",
       " 4     44.235655             4   CTRL\n",
       " ..          ...           ...    ...\n",
       " 175  128.451206           175    PTX\n",
       " 176  130.070013           176    PTX\n",
       " 177  132.608327           177    PTX\n",
       " 178  127.646345           178    PTX\n",
       " 179  142.968130           179    PTX\n",
       " \n",
       " [180 rows x 3 columns],\n",
       " 'Cell 3 ctrl 4m':               0  sweep_number series\n",
       " 0     48.612137             0   CTRL\n",
       " 1     52.894837             1   CTRL\n",
       " 2     55.956472             2   CTRL\n",
       " 3     60.152907             3   CTRL\n",
       " 4     52.520642             4   CTRL\n",
       " ..          ...           ...    ...\n",
       " 174  142.688039           174    PTX\n",
       " 175  125.837944           175    PTX\n",
       " 176  141.265652           176    PTX\n",
       " 177  134.119097           177    PTX\n",
       " 178  130.413269           178    PTX\n",
       " \n",
       " [179 rows x 3 columns],\n",
       " 'Cell 4 ctrl 4m':               0  sweep_number series\n",
       " 0     59.350683             0   CTRL\n",
       " 1     53.472817             1   CTRL\n",
       " 2     57.443930             2   CTRL\n",
       " 3     59.992282             3   CTRL\n",
       " 4     55.167944             4   CTRL\n",
       " ..          ...           ...    ...\n",
       " 175  128.079265           175    PTX\n",
       " 176  108.551173           176    PTX\n",
       " 177  113.257977           177    PTX\n",
       " 178  106.499469           178    PTX\n",
       " 179  112.807953           179    PTX\n",
       " \n",
       " [180 rows x 3 columns]}"
      ]
     },
     "execution_count": 28,
     "metadata": {},
     "output_type": "execute_result"
    }
   ],
   "source": [
    "dict_df_r_s"
   ]
  },
  {
   "cell_type": "code",
   "execution_count": null,
   "id": "c76247c3",
   "metadata": {},
   "outputs": [],
   "source": []
  },
  {
   "cell_type": "code",
   "execution_count": 29,
   "id": "c37f4464",
   "metadata": {
    "scrolled": false
   },
   "outputs": [
    {
     "ename": "KeyError",
     "evalue": "''",
     "output_type": "error",
     "traceback": [
      "\u001b[1;31m---------------------------------------------------------------------------\u001b[0m",
      "\u001b[1;31mKeyError\u001b[0m                                  Traceback (most recent call last)",
      "Input \u001b[1;32mIn [29]\u001b[0m, in \u001b[0;36m<cell line: 1>\u001b[1;34m()\u001b[0m\n\u001b[1;32m----> 1\u001b[0m \u001b[43mdict_df_r_s\u001b[49m\u001b[43m[\u001b[49m\u001b[38;5;124;43m'\u001b[39;49m\u001b[38;5;124;43m'\u001b[39;49m\u001b[43m]\u001b[49m\n",
      "\u001b[1;31mKeyError\u001b[0m: ''"
     ]
    }
   ],
   "source": [
    "dict_df_r_s['']"
   ]
  },
  {
   "cell_type": "code",
   "execution_count": null,
   "id": "b70dea14",
   "metadata": {},
   "outputs": [],
   "source": [
    "r_s"
   ]
  },
  {
   "cell_type": "code",
   "execution_count": 30,
   "id": "38c14c77",
   "metadata": {},
   "outputs": [],
   "source": [
    "def common_statistic(r_s, files):\n",
    "    dict_df_r_s = {}\n",
    "    for k in r_s.keys():\n",
    "        dict_df_r_s[k] = pd.DataFrame.from_dict(r_s[k])\n",
    "    r_s_ctrl_mean = {}\n",
    "    for f in files:\n",
    "        for item in f:\n",
    "            print(dict_df_r_s)\n",
    "            m = dict_df_r_s[item].loc[dict_df_r_s[item]['series'] == 'CTRL'].describe()[0][1]\n",
    "            r_s_ctrl_mean[item] = m\n",
    "\n",
    "    r_s_gaba1_mean = {}\n",
    "    for f in files:\n",
    "        for item in f:\n",
    "            m = dict_df_r_s[item].loc[dict_df_r_s[item]['series'] == 'GABA1'].describe()[0][1]\n",
    "            r_s_gaba1_mean[item] = m\n",
    "\n",
    "    r_s_gaba5_mean = {}\n",
    "    for f in files:\n",
    "        for item in f:\n",
    "            m = dict_df_r_s[item].loc[dict_df_r_s[item]['series'] == 'GABA5'].describe()[0][1]\n",
    "            r_s_gaba5_mean[item] = m\n",
    "\n",
    "    r_s_ptx_mean = {}\n",
    "    for f in files:\n",
    "        for item in f:\n",
    "            m = dict_df_r_s[item].loc[dict_df_r_s[item]['series'] == 'PTX'].describe()[0][1]\n",
    "            r_s_ptx_mean[item] = m\n",
    "            \n",
    "    r_s_ctrl_4m = pd.DataFrame([r_s_ctrl_mean[k] for k in ctrl4m] + [(r_s_gaba1_mean[k] - r_s_ctrl_mean[k])/r_s_ctrl_mean[k] *100 for k in ctrl4m] + [(r_s_gaba5_mean[k] - r_s_ctrl_mean[k])/r_s_ctrl_mean[k] *100 for k in ctrl4m] + [(r_s_ptx_mean[k] - r_s_ctrl_mean[k])/r_s_ctrl_mean[k] *100 for k in ctrl4m], columns=['R_s'])\n",
    "    r_s_ctrl_4m['series'] = ['CTRL'] * len(ctrl4m) + ['GABA1'] * len(ctrl4m) + ['GABA5'] * len(ctrl4m) + ['PTX'] * len(ctrl4m)\n",
    "    r_s_ctrl_4m['type'] = ['CTRL'] * len(ctrl4m) * 4\n",
    "\n",
    "    r_s_ad_4m = pd.DataFrame([r_s_ctrl_mean[k] for k in ad4m] + [(r_s_gaba1_mean[k] - r_s_ctrl_mean[k])/r_s_ctrl_mean[k] *100 for k in ad4m] + [(r_s_gaba5_mean[k] - r_s_ctrl_mean[k])/r_s_ctrl_mean[k] *100 for k in ad4m] + [(r_s_ptx_mean[k] - r_s_ctrl_mean[k])/r_s_ctrl_mean[k] *100 for k in ad4m], columns=['R_s'])\n",
    "    r_s_ad_4m['series'] = ['CTRL'] * len(ad4m) + ['GABA1'] * len(ad4m) + ['GABA5'] * len(ad4m) + ['PTX'] * len(ad4m)\n",
    "    r_s_ad_4m['type'] = ['5xFAD'] * len(ad4m) * 4\n",
    "\n",
    "    r_s_4m = pd.concat([r_s_ctrl_4m, r_s_ad_4m])\n",
    "    \n",
    "    return(r_s_4m)"
   ]
  },
  {
   "cell_type": "code",
   "execution_count": 31,
   "id": "c213da8e",
   "metadata": {
    "scrolled": false
   },
   "outputs": [
    {
     "name": "stdout",
     "output_type": "stream",
     "text": [
      "{'Cell 1 ctrl 4m':               0\n",
      "0     35.597064\n",
      "1     34.983952\n",
      "2     36.248685\n",
      "3     36.827937\n",
      "4     36.335021\n",
      "..          ...\n",
      "175   97.851658\n",
      "176  104.563283\n",
      "177   93.405057\n",
      "178  109.503858\n",
      "179  104.643422\n",
      "\n",
      "[180 rows x 1 columns], 'Cell 2 ctrl 4m':               0\n",
      "0     40.552203\n",
      "1     44.701003\n",
      "2     43.921324\n",
      "3     43.653171\n",
      "4     44.235655\n",
      "..          ...\n",
      "175  128.451206\n",
      "176  130.070013\n",
      "177  132.608327\n",
      "178  127.646345\n",
      "179  142.968130\n",
      "\n",
      "[180 rows x 1 columns], 'Cell 3 ctrl 4m':               0\n",
      "0     48.612137\n",
      "1     52.894837\n",
      "2     55.956472\n",
      "3     60.152907\n",
      "4     52.520642\n",
      "..          ...\n",
      "174  142.688039\n",
      "175  125.837944\n",
      "176  141.265652\n",
      "177  134.119097\n",
      "178  130.413269\n",
      "\n",
      "[179 rows x 1 columns], 'Cell 4 ctrl 4m':               0\n",
      "0     59.350683\n",
      "1     53.472817\n",
      "2     57.443930\n",
      "3     59.992282\n",
      "4     55.167944\n",
      "..          ...\n",
      "175  128.079265\n",
      "176  108.551173\n",
      "177  113.257977\n",
      "178  106.499469\n",
      "179  112.807953\n",
      "\n",
      "[180 rows x 1 columns]}\n"
     ]
    },
    {
     "ename": "KeyError",
     "evalue": "'series'",
     "output_type": "error",
     "traceback": [
      "\u001b[1;31m---------------------------------------------------------------------------\u001b[0m",
      "\u001b[1;31mKeyError\u001b[0m                                  Traceback (most recent call last)",
      "Input \u001b[1;32mIn [31]\u001b[0m, in \u001b[0;36m<cell line: 1>\u001b[1;34m()\u001b[0m\n\u001b[1;32m----> 1\u001b[0m \u001b[43mcommon_statistic\u001b[49m\u001b[43m(\u001b[49m\u001b[43mr_s\u001b[49m\u001b[43m,\u001b[49m\u001b[43m \u001b[49m\u001b[43mfiles\u001b[49m\u001b[43m)\u001b[49m\n",
      "Input \u001b[1;32mIn [30]\u001b[0m, in \u001b[0;36mcommon_statistic\u001b[1;34m(r_s, files)\u001b[0m\n\u001b[0;32m      7\u001b[0m     \u001b[38;5;28;01mfor\u001b[39;00m item \u001b[38;5;129;01min\u001b[39;00m f:\n\u001b[0;32m      8\u001b[0m         \u001b[38;5;28mprint\u001b[39m(dict_df_r_s)\n\u001b[1;32m----> 9\u001b[0m         m \u001b[38;5;241m=\u001b[39m dict_df_r_s[item]\u001b[38;5;241m.\u001b[39mloc[\u001b[43mdict_df_r_s\u001b[49m\u001b[43m[\u001b[49m\u001b[43mitem\u001b[49m\u001b[43m]\u001b[49m\u001b[43m[\u001b[49m\u001b[38;5;124;43m'\u001b[39;49m\u001b[38;5;124;43mseries\u001b[39;49m\u001b[38;5;124;43m'\u001b[39;49m\u001b[43m]\u001b[49m \u001b[38;5;241m==\u001b[39m \u001b[38;5;124m'\u001b[39m\u001b[38;5;124mCTRL\u001b[39m\u001b[38;5;124m'\u001b[39m]\u001b[38;5;241m.\u001b[39mdescribe()[\u001b[38;5;241m0\u001b[39m][\u001b[38;5;241m1\u001b[39m]\n\u001b[0;32m     10\u001b[0m         r_s_ctrl_mean[item] \u001b[38;5;241m=\u001b[39m m\n\u001b[0;32m     12\u001b[0m r_s_gaba1_mean \u001b[38;5;241m=\u001b[39m {}\n",
      "File \u001b[1;32m~\\miniconda3\\lib\\site-packages\\pandas\\core\\frame.py:3505\u001b[0m, in \u001b[0;36mDataFrame.__getitem__\u001b[1;34m(self, key)\u001b[0m\n\u001b[0;32m   3503\u001b[0m \u001b[38;5;28;01mif\u001b[39;00m \u001b[38;5;28mself\u001b[39m\u001b[38;5;241m.\u001b[39mcolumns\u001b[38;5;241m.\u001b[39mnlevels \u001b[38;5;241m>\u001b[39m \u001b[38;5;241m1\u001b[39m:\n\u001b[0;32m   3504\u001b[0m     \u001b[38;5;28;01mreturn\u001b[39;00m \u001b[38;5;28mself\u001b[39m\u001b[38;5;241m.\u001b[39m_getitem_multilevel(key)\n\u001b[1;32m-> 3505\u001b[0m indexer \u001b[38;5;241m=\u001b[39m \u001b[38;5;28;43mself\u001b[39;49m\u001b[38;5;241;43m.\u001b[39;49m\u001b[43mcolumns\u001b[49m\u001b[38;5;241;43m.\u001b[39;49m\u001b[43mget_loc\u001b[49m\u001b[43m(\u001b[49m\u001b[43mkey\u001b[49m\u001b[43m)\u001b[49m\n\u001b[0;32m   3506\u001b[0m \u001b[38;5;28;01mif\u001b[39;00m is_integer(indexer):\n\u001b[0;32m   3507\u001b[0m     indexer \u001b[38;5;241m=\u001b[39m [indexer]\n",
      "File \u001b[1;32m~\\miniconda3\\lib\\site-packages\\pandas\\core\\indexes\\range.py:389\u001b[0m, in \u001b[0;36mRangeIndex.get_loc\u001b[1;34m(self, key, method, tolerance)\u001b[0m\n\u001b[0;32m    387\u001b[0m             \u001b[38;5;28;01mraise\u001b[39;00m \u001b[38;5;167;01mKeyError\u001b[39;00m(key) \u001b[38;5;28;01mfrom\u001b[39;00m \u001b[38;5;21;01merr\u001b[39;00m\n\u001b[0;32m    388\u001b[0m     \u001b[38;5;28mself\u001b[39m\u001b[38;5;241m.\u001b[39m_check_indexing_error(key)\n\u001b[1;32m--> 389\u001b[0m     \u001b[38;5;28;01mraise\u001b[39;00m \u001b[38;5;167;01mKeyError\u001b[39;00m(key)\n\u001b[0;32m    390\u001b[0m \u001b[38;5;28;01mreturn\u001b[39;00m \u001b[38;5;28msuper\u001b[39m()\u001b[38;5;241m.\u001b[39mget_loc(key, method\u001b[38;5;241m=\u001b[39mmethod, tolerance\u001b[38;5;241m=\u001b[39mtolerance)\n",
      "\u001b[1;31mKeyError\u001b[0m: 'series'"
     ]
    }
   ],
   "source": [
    "common_statistic(r_s, files)"
   ]
  },
  {
   "cell_type": "code",
   "execution_count": null,
   "id": "c8be8e31",
   "metadata": {},
   "outputs": [],
   "source": [
    "r_s"
   ]
  },
  {
   "cell_type": "code",
   "execution_count": null,
   "id": "d8f8449c",
   "metadata": {},
   "outputs": [],
   "source": []
  },
  {
   "cell_type": "code",
   "execution_count": null,
   "id": "62ae48ab",
   "metadata": {},
   "outputs": [],
   "source": []
  },
  {
   "cell_type": "code",
   "execution_count": null,
   "id": "b8dff6a8",
   "metadata": {},
   "outputs": [],
   "source": [
    "plt.figure(figsize = (10, 10))\n",
    "ax = sns.boxplot(data=r_s_4m.loc[r_s_4m['series'] != 'CTRL'], x=\"series\", y=\"R_s\", hue=\"type\", linewidth = 1.3, showfliers=False)\n",
    "ax.set_title('R_s 3-4 m.o.', fontsize=18)\n",
    "ax.set_xlabel('series', fontsize=18)\n",
    "ax.set_ylabel('delta R_s, %', fontsize=18);\n",
    "plt.xticks(fontsize=12, rotation=0)\n",
    "plt.yticks(fontsize=12, rotation=0)\n",
    "plt.legend(fontsize=18)\n",
    "plt.savefig('common_res/R_s_3_4_month.png')\n",
    "plt.savefig('common_res/R_s_3_4_month.pdf')\n",
    "plt.show();"
   ]
  },
  {
   "cell_type": "code",
   "execution_count": null,
   "id": "53c4ae01",
   "metadata": {},
   "outputs": [],
   "source": [
    "plt.figure(figsize = (10, 10))\n",
    "ax = sns.boxplot(data=r_s_4m.loc[r_s_4m['series'] == 'CTRL'], x=\"series\", y=\"R_s\", hue=\"type\", linewidth = 1.3, showfliers=False)\n",
    "ax.set_title('R_s 3-4 m.o.', fontsize=18)\n",
    "ax.set_xlabel('series', fontsize=18)\n",
    "ax.set_ylabel('R_s, Mohm', fontsize=18);\n",
    "plt.xticks(fontsize=12, rotation=0)\n",
    "plt.yticks(fontsize=12, rotation=0)\n",
    "plt.legend(fontsize=18)\n",
    "plt.savefig('common_res/R_s_3_4_month.png')\n",
    "plt.savefig('common_res/R_s_3_4_month.pdf')\n",
    "plt.show();"
   ]
  },
  {
   "cell_type": "code",
   "execution_count": null,
   "id": "01f94c0a",
   "metadata": {},
   "outputs": [],
   "source": []
  },
  {
   "cell_type": "code",
   "execution_count": null,
   "id": "671c843a",
   "metadata": {},
   "outputs": [],
   "source": []
  },
  {
   "cell_type": "code",
   "execution_count": null,
   "id": "946530e9",
   "metadata": {},
   "outputs": [],
   "source": []
  },
  {
   "cell_type": "code",
   "execution_count": null,
   "id": "bc36a236",
   "metadata": {},
   "outputs": [],
   "source": []
  },
  {
   "cell_type": "code",
   "execution_count": null,
   "id": "b6aee388",
   "metadata": {},
   "outputs": [],
   "source": []
  },
  {
   "cell_type": "code",
   "execution_count": null,
   "id": "a48b0124",
   "metadata": {},
   "outputs": [],
   "source": []
  },
  {
   "cell_type": "code",
   "execution_count": null,
   "id": "8552cbe4",
   "metadata": {},
   "outputs": [],
   "source": []
  },
  {
   "cell_type": "code",
   "execution_count": null,
   "id": "bbb00d00",
   "metadata": {},
   "outputs": [],
   "source": []
  },
  {
   "cell_type": "markdown",
   "id": "0329ed4c",
   "metadata": {},
   "source": [
    "Baseline parameters"
   ]
  },
  {
   "cell_type": "code",
   "execution_count": null,
   "id": "2504142b",
   "metadata": {},
   "outputs": [],
   "source": [
    "tonic_cur = {}\n",
    "for f in files:\n",
    "    for item in f:\n",
    "        tonic_cur[item] = pd.read_csv(f'{item}\\_tonic_cur.csv')"
   ]
  },
  {
   "cell_type": "code",
   "execution_count": null,
   "id": "2708d9e9",
   "metadata": {},
   "outputs": [],
   "source": [
    "for k, v in tonic_cur.items():\n",
    "    v['series'] = ['GABA1', 'GABA5', 'PTX']"
   ]
  },
  {
   "cell_type": "code",
   "execution_count": null,
   "id": "cc5fc90d",
   "metadata": {},
   "outputs": [],
   "source": [
    "frames0_i_tonic = [tonic_cur[k] for k in ctrl4m] \n",
    "tonic_cur_ctrl_4m = pd.concat(frames0_i_tonic)\n",
    "tonic_cur_ctrl_4m['type'] = ['CTRL'] * len(np.array(tonic_cur_ctrl_4m['Iton, pA']))\n",
    "\n",
    "frames1_i_tonic = [tonic_cur[k] for k in ad4m]\n",
    "tonic_cur_ad_4m = pd.concat(frames1_i_tonic)\n",
    "tonic_cur_ad_4m['type'] = ['5xFAD'] * len(np.array(tonic_cur_ad_4m['Iton, pA']))\n",
    "\n",
    "i_tonic_4m = pd.concat([tonic_cur_ctrl_4m, tonic_cur_ad_4m])"
   ]
  },
  {
   "cell_type": "code",
   "execution_count": null,
   "id": "cfb43647",
   "metadata": {},
   "outputs": [],
   "source": [
    "sns.set_style(\"whitegrid\")\n",
    "plt.figure(figsize = (10, 10))\n",
    "ax = sns.boxplot(data=i_tonic_4m, x=\"series\", y=\"Iton, pA\", hue=\"type\", linewidth = 1.3, showfliers=False)\n",
    "add_median_labels(ax)\n",
    "ax.set_title('Tonic current 3-4 m.o.', fontsize=18)\n",
    "ax.set_xlabel('series', fontsize=18)\n",
    "ax.set_ylabel('Itonic, pA', fontsize=18);\n",
    "plt.xticks(fontsize=12, rotation=0)\n",
    "plt.yticks(fontsize=12, rotation=0)\n",
    "plt.legend(fontsize=18)\n",
    "plt.ylim(-40,30)\n",
    "plt.savefig('common_res/Itonic_3_4_month.png')\n",
    "plt.savefig('common_res/Itonic_3_4_month.pdf')\n",
    "plt.show();"
   ]
  },
  {
   "cell_type": "code",
   "execution_count": null,
   "id": "a4bf530f",
   "metadata": {},
   "outputs": [],
   "source": [
    "frames2_i_tonic = [tonic_cur[k] for k in ctrl8m]\n",
    "tonic_cur_ctrl_8m = pd.concat(frames2_i_tonic)\n",
    "tonic_cur_ctrl_8m['type'] = ['CTRL'] * len(np.array(tonic_cur_ctrl_8m['Iton, pA']))\n",
    "\n",
    "frames3_i_tonic = [tonic_cur[k] for k in ad8m]\n",
    "tonic_cur_ad_8m = pd.concat(frames3_i_tonic)\n",
    "tonic_cur_ad_8m['type'] = ['5xFAD'] * len(np.array(tonic_cur_ad_8m['Iton, pA']))\n",
    "\n",
    "i_tonic_8m = pd.concat([tonic_cur_ctrl_8m, tonic_cur_ad_8m])"
   ]
  },
  {
   "cell_type": "code",
   "execution_count": null,
   "id": "0cb0728d",
   "metadata": {},
   "outputs": [],
   "source": [
    "sns.set_style(\"whitegrid\")\n",
    "plt.figure(figsize = (10, 10))\n",
    "ax = sns.boxplot(data=i_tonic_8m, x=\"series\", y=\"Iton, pA\", hue=\"type\", linewidth = 1.3, showfliers=False)\n",
    "add_median_labels(ax)\n",
    "ax.set_title('Tonic current 7-8 m.o.', fontsize=18)\n",
    "ax.set_xlabel('series', fontsize=18)\n",
    "ax.set_ylabel('Itonic, pA', fontsize=18);\n",
    "plt.xticks(fontsize=12, rotation=0)\n",
    "plt.yticks(fontsize=12, rotation=0)\n",
    "plt.legend(fontsize=18)\n",
    "plt.ylim(-40,30)\n",
    "plt.savefig('common_res/Itonic_7_8_month.png')\n",
    "plt.savefig('common_res/Itonic_7_8_month.pdf')\n",
    "plt.show();"
   ]
  },
  {
   "cell_type": "code",
   "execution_count": null,
   "id": "9ea0ac92",
   "metadata": {},
   "outputs": [],
   "source": [
    "baseline_param = {}\n",
    "i_h = {}\n",
    "i_h_noise = {}\n",
    "for f in files:\n",
    "    for item in f:\n",
    "        baseline_param[item] = pd.read_csv(f'{item}\\_baseline_param.csv')\n",
    "        i_h[item] = np.array(baseline_param[item]['Ihold, pA'])\n",
    "        i_h_noise[item] = np.array(baseline_param[item]['Inoise, pA'])"
   ]
  },
  {
   "cell_type": "code",
   "execution_count": null,
   "id": "278957e4",
   "metadata": {},
   "outputs": [],
   "source": [
    "dict_df_i_h = {}\n",
    "for k in r_s.keys():\n",
    "    dict_df_i_h[k] = pd.DataFrame.from_dict(i_h[k])\n",
    "    \n",
    "dict_df_i_h_noise = {}\n",
    "for k in i_h_noise.keys():\n",
    "    dict_df_i_h_noise[k] = pd.DataFrame.from_dict(i_h_noise[k])"
   ]
  },
  {
   "cell_type": "code",
   "execution_count": null,
   "id": "81e3bdd3",
   "metadata": {},
   "outputs": [],
   "source": [
    "start_ser = [0, 54, 100, 162]\n",
    "stop_ser = [30, 72, 118, 198]"
   ]
  },
  {
   "cell_type": "code",
   "execution_count": null,
   "id": "5325eabd",
   "metadata": {},
   "outputs": [],
   "source": [
    "def series_numeration(x):\n",
    "    results_keys = ['CTRL', 'GABA1', 'GABA5', 'PTX']\n",
    "    for i in range(len(start_ser)):\n",
    "        if start_ser[i] <= x <= stop_ser[i]:\n",
    "            return results_keys[i]"
   ]
  },
  {
   "cell_type": "code",
   "execution_count": null,
   "id": "79e08fec",
   "metadata": {},
   "outputs": [],
   "source": [
    "for k, v in dict_df_i_h.items():\n",
    "    v['sweep_number'] = [i for i in range(len(i_h[k]))]\n",
    "    v['series'] = v.sweep_number.apply(series_numeration)\n",
    "    \n",
    "for k, v in dict_df_i_h_noise.items():\n",
    "    v['sweep_number'] = [i for i in range(len(i_h_noise[k]))]\n",
    "    v['series'] = v.sweep_number.apply(series_numeration)"
   ]
  },
  {
   "cell_type": "code",
   "execution_count": null,
   "id": "894795ff",
   "metadata": {},
   "outputs": [],
   "source": [
    "frames0_i_h = [dict_df_i_h[k] for k in ctrl4m]\n",
    "i_h_ctrl_4m = pd.concat(frames0_i_h)\n",
    "i_h_ctrl_4m.rename(columns = {0:'I hold'}, inplace = True)\n",
    "i_h_ctrl_4m['type'] = ['CTRL'] * len(np.array(i_h_ctrl_4m['I hold']))\n",
    "\n",
    "frames0_i_h_noise = [dict_df_i_h_noise[k] for k in ctrl4m]\n",
    "i_h_noise_ctrl_4m = pd.concat(frames0_i_h_noise)\n",
    "i_h_noise_ctrl_4m.rename(columns = {0:'i_h_noise'}, inplace = True)\n",
    "i_h_noise_ctrl_4m['type'] = ['CTRL'] * len(np.array(i_h_noise_ctrl_4m['i_h_noise']))"
   ]
  },
  {
   "cell_type": "code",
   "execution_count": null,
   "id": "03daf97f",
   "metadata": {},
   "outputs": [],
   "source": [
    "frames1_i_h = [dict_df_i_h[k] for k in ad4m]\n",
    "i_h_ad_4m = pd.concat(frames1_i_h)\n",
    "i_h_ad_4m.rename(columns = {0:'I hold'}, inplace = True)\n",
    "i_h_ad_4m['type'] = ['5xFAD'] * len(np.array(i_h_ad_4m['I hold']))\n",
    "\n",
    "frames1_i_h_noise = [dict_df_i_h_noise[k] for k in ad4m]\n",
    "i_h_noise_ad_4m = pd.concat(frames1_i_h_noise)\n",
    "i_h_noise_ad_4m.rename(columns = {0:'i_h_noise'}, inplace = True)\n",
    "i_h_noise_ad_4m['type'] = ['5xFAD'] * len(np.array(i_h_noise_ad_4m['i_h_noise']))"
   ]
  },
  {
   "cell_type": "code",
   "execution_count": null,
   "id": "2a88754a",
   "metadata": {},
   "outputs": [],
   "source": [
    "i_h_4m = pd.concat([i_h_ctrl_4m, i_h_ad_4m])\n",
    "i_h_noise_4m = pd.concat([i_h_noise_ctrl_4m, i_h_noise_ad_4m])"
   ]
  },
  {
   "cell_type": "code",
   "execution_count": null,
   "id": "6ecc341d",
   "metadata": {},
   "outputs": [],
   "source": [
    "sns.set_style(\"whitegrid\")\n",
    "plt.figure(figsize = (10, 10))\n",
    "ax = sns.boxplot(data=i_h_4m, x=\"series\", y=\"I hold\", hue=\"type\", linewidth = 1.3, showfliers=False)\n",
    "add_median_labels(ax)\n",
    "ax.set_title('Holding current 3-4 m.o.', fontsize=18)\n",
    "ax.set_xlabel('series', fontsize=18)\n",
    "ax.set_ylabel('I hold, pA', fontsize=18);\n",
    "plt.xticks(fontsize=12, rotation=0)\n",
    "plt.yticks(fontsize=12, rotation=0)\n",
    "plt.legend(fontsize=18)\n",
    "plt.ylim(-270,-10)\n",
    "plt.savefig('common_res/I_h_3_4_month.png')\n",
    "plt.savefig('common_res/I_h_3_4_month.pdf')\n",
    "plt.show();"
   ]
  },
  {
   "cell_type": "code",
   "execution_count": null,
   "id": "d469bedb",
   "metadata": {},
   "outputs": [],
   "source": [
    "sns.set_style(\"whitegrid\")\n",
    "plt.figure(figsize = (10, 10))\n",
    "ax = sns.boxplot(data=i_h_noise_4m, x=\"series\", y=\"i_h_noise\", hue=\"type\", linewidth = 1.3, showfliers=False)\n",
    "add_median_labels(ax)\n",
    "ax.set_title('Holding current noise 3-4 m.o.', fontsize=18)\n",
    "ax.set_xlabel('series', fontsize=18)\n",
    "ax.set_ylabel('i_h_noise, pA', fontsize=18);\n",
    "plt.xticks(fontsize=12, rotation=0)\n",
    "plt.yticks(fontsize=12, rotation=0)\n",
    "plt.legend(fontsize=18)\n",
    "plt.ylim(0,6)\n",
    "plt.savefig('common_res/I_h_noise_3_4_month.png')\n",
    "plt.savefig('common_res/I_h_noise_3_4_month.pdf')\n",
    "plt.show();"
   ]
  },
  {
   "cell_type": "code",
   "execution_count": null,
   "id": "a7c66bab",
   "metadata": {},
   "outputs": [],
   "source": [
    "frames2_i_h = [dict_df_i_h[k] for k in ctrl8m]\n",
    "i_h_ctrl_8m = pd.concat(frames2_i_h)\n",
    "i_h_ctrl_8m.rename(columns = {0:'I hold'}, inplace = True)\n",
    "i_h_ctrl_8m['type'] = ['CTRL'] * len(np.array(i_h_ctrl_8m['I hold']))\n",
    "\n",
    "frames2_i_h_noise = [dict_df_i_h_noise[k] for k in ctrl8m]\n",
    "i_h_noise_ctrl_8m = pd.concat(frames2_i_h_noise)\n",
    "i_h_noise_ctrl_8m.rename(columns = {0:'i_h_noise'}, inplace = True)\n",
    "i_h_noise_ctrl_8m['type'] = ['CTRL'] * len(np.array(i_h_noise_ctrl_8m['i_h_noise']))"
   ]
  },
  {
   "cell_type": "code",
   "execution_count": null,
   "id": "d53ad0cc",
   "metadata": {},
   "outputs": [],
   "source": [
    "frames3_i_h = [dict_df_i_h[k] for k in ad8m]\n",
    "i_h_ad_8m = pd.concat(frames3_i_h)\n",
    "i_h_ad_8m.rename(columns = {0:'I hold'}, inplace = True)\n",
    "i_h_ad_8m['type'] = ['5xFAD'] * len(np.array(i_h_ad_8m['I hold']))\n",
    "\n",
    "frames3_i_h_noise = [dict_df_i_h_noise[k] for k in ad8m]\n",
    "i_h_noise_ad_8m = pd.concat(frames3_i_h_noise)\n",
    "i_h_noise_ad_8m.rename(columns = {0:'i_h_noise'}, inplace = True)\n",
    "i_h_noise_ad_8m['type'] = ['5xFAD'] * len(np.array(i_h_noise_ad_8m['i_h_noise']))"
   ]
  },
  {
   "cell_type": "code",
   "execution_count": null,
   "id": "38808b64",
   "metadata": {},
   "outputs": [],
   "source": [
    "i_h_8m = pd.concat([i_h_ctrl_8m, i_h_ad_8m])\n",
    "i_h_noise_8m = pd.concat([i_h_noise_ctrl_8m, i_h_noise_ad_8m])"
   ]
  },
  {
   "cell_type": "code",
   "execution_count": null,
   "id": "b10f1558",
   "metadata": {},
   "outputs": [],
   "source": [
    "sns.set_style(\"whitegrid\")\n",
    "plt.figure(figsize = (10, 10))\n",
    "ax = sns.boxplot(data=i_h_8m, x=\"series\", y=\"I hold\", hue=\"type\", linewidth = 1.3, showfliers=False)\n",
    "add_median_labels(ax)\n",
    "ax.set_title('Holding current 7-8 m.o.', fontsize=18)\n",
    "ax.set_xlabel('series', fontsize=18)\n",
    "ax.set_ylabel('I hold, pA', fontsize=18);\n",
    "plt.xticks(fontsize=12, rotation=0)\n",
    "plt.yticks(fontsize=12, rotation=0)\n",
    "plt.legend(fontsize=18)\n",
    "plt.ylim(-270,-10)\n",
    "plt.savefig('common_res/I_h_7_8_month.png')\n",
    "plt.savefig('common_res/I_h_7_8_month.pdf')\n",
    "plt.show();"
   ]
  },
  {
   "cell_type": "code",
   "execution_count": null,
   "id": "23a06840",
   "metadata": {},
   "outputs": [],
   "source": [
    "sns.set_style(\"whitegrid\")\n",
    "plt.figure(figsize = (10, 10))\n",
    "ax = sns.boxplot(data=i_h_noise_8m, x=\"series\", y=\"i_h_noise\", hue=\"type\", linewidth = 1.3, showfliers=False)\n",
    "add_median_labels(ax)\n",
    "ax.set_title('Holding current noise 7-8 m.o.', fontsize=18)\n",
    "ax.set_xlabel('series', fontsize=18)\n",
    "ax.set_ylabel('i_h_noise, pA', fontsize=18);\n",
    "plt.xticks(fontsize=12, rotation=0)\n",
    "plt.yticks(fontsize=12, rotation=0)\n",
    "plt.legend(fontsize=18)\n",
    "plt.ylim(0,6)\n",
    "plt.savefig('common_res/I_h_noise_7_8_month.png')\n",
    "plt.savefig('common_res/I_h_noise_7_8_month.pdf')\n",
    "plt.show();"
   ]
  },
  {
   "cell_type": "markdown",
   "id": "6e4f3468",
   "metadata": {},
   "source": [
    "Event parameters"
   ]
  },
  {
   "cell_type": "code",
   "execution_count": null,
   "id": "bcc47e38",
   "metadata": {},
   "outputs": [],
   "source": [
    "event_param = {}\n",
    "amplitudes = {}\n",
    "tau_decay = {}\n",
    "rise_rate = {}\n",
    "for f in files:\n",
    "    for item in f:\n",
    "        event_param[item] = pd.read_csv(f'{item}\\event_param.csv')\n",
    "        amplitudes[item] = np.array(event_param[item]['amplitudes'])\n",
    "        tau_decay[item] = np.array(event_param[item]['tau_decay'])\n",
    "        rise_rate[item] = np.array(event_param[item]['rise_rate_10_90'])"
   ]
  },
  {
   "cell_type": "code",
   "execution_count": null,
   "id": "45f5a4fa",
   "metadata": {},
   "outputs": [],
   "source": [
    "dict_df_amplitudes = {}\n",
    "for k in amplitudes.keys():\n",
    "    dict_df_amplitudes[k] = pd.DataFrame.from_dict(amplitudes[k])\n",
    "    \n",
    "dict_df_tau_decay = {}\n",
    "for k in tau_decay.keys():\n",
    "    dict_df_tau_decay[k] = pd.DataFrame.from_dict(tau_decay[k])\n",
    "    \n",
    "dict_df_rise_rate = {}\n",
    "for k in rise_rate.keys():\n",
    "    dict_df_rise_rate[k] = pd.DataFrame.from_dict(rise_rate[k])"
   ]
  },
  {
   "cell_type": "code",
   "execution_count": null,
   "id": "f7b76dd6",
   "metadata": {},
   "outputs": [],
   "source": [
    "start_ser = [0, 54, 100]\n",
    "stop_ser = [30, 72, 118]"
   ]
  },
  {
   "cell_type": "code",
   "execution_count": null,
   "id": "590b1dbe",
   "metadata": {},
   "outputs": [],
   "source": [
    "def series_numeration(x):\n",
    "    results_keys = ['CTRL', 'GABA1', 'GABA5']\n",
    "    for i in range(len(start_ser)):\n",
    "        if start_ser[i] <= x <= stop_ser[i]:\n",
    "            return results_keys[i]"
   ]
  },
  {
   "cell_type": "code",
   "execution_count": null,
   "id": "fc04ee0f",
   "metadata": {},
   "outputs": [],
   "source": [
    "for k, v in dict_df_amplitudes.items():\n",
    "    v['sweep_number'] = [i for i in range(len(amplitudes[k]))]\n",
    "    v['series'] = v.sweep_number.apply(series_numeration)\n",
    "    \n",
    "for k, v in dict_df_tau_decay.items():\n",
    "    v['sweep_number'] = [i for i in range(len(tau_decay[k]))]\n",
    "    v['series'] = v.sweep_number.apply(series_numeration)\n",
    "    \n",
    "for k, v in dict_df_rise_rate.items():\n",
    "    v['sweep_number'] = [i for i in range(len(rise_rate[k]))]\n",
    "    v['series'] = v.sweep_number.apply(series_numeration)"
   ]
  },
  {
   "cell_type": "code",
   "execution_count": null,
   "id": "cfbaa567",
   "metadata": {},
   "outputs": [],
   "source": [
    "frames0_amplitudes = [dict_df_amplitudes[k] for k in ctrl4m]\n",
    "amplitudes_ctrl_4m = pd.concat(frames0_amplitudes)\n",
    "amplitudes_ctrl_4m.rename(columns = {0:'Ampl'}, inplace = True)\n",
    "amplitudes_ctrl_4m['type'] = ['CTRL'] * len(np.array(amplitudes_ctrl_4m['Ampl']))\n",
    "\n",
    "frames0_tau_decay = [dict_df_tau_decay[k] for k in ctrl4m]\n",
    "tau_decay_ctrl_4m = pd.concat(frames0_tau_decay)\n",
    "tau_decay_ctrl_4m.rename(columns = {0:'tau_decay'}, inplace = True)\n",
    "tau_decay_ctrl_4m['type'] = ['CTRL'] * len(np.array(tau_decay_ctrl_4m['tau_decay']))\n",
    "\n",
    "frames0_rise_rate = [dict_df_rise_rate[k] for k in ctrl4m]\n",
    "rise_rate_ctrl_4m = pd.concat(frames0_rise_rate)\n",
    "rise_rate_ctrl_4m.rename(columns = {0:'rise_rate'}, inplace = True)\n",
    "rise_rate_ctrl_4m['type'] = ['CTRL'] * len(np.array(rise_rate_ctrl_4m['rise_rate']))"
   ]
  },
  {
   "cell_type": "code",
   "execution_count": null,
   "id": "4197de74",
   "metadata": {},
   "outputs": [],
   "source": [
    "frames1_amplitudes = [dict_df_amplitudes[k] for k in ad4m]\n",
    "amplitudes_ad_4m = pd.concat(frames1_amplitudes)\n",
    "amplitudes_ad_4m.rename(columns = {0:'Ampl'}, inplace = True)\n",
    "amplitudes_ad_4m['type'] = ['5xFAD'] * len(np.array(amplitudes_ad_4m['Ampl']))\n",
    "\n",
    "frames1_tau_decay = [dict_df_tau_decay[k] for k in ad4m]\n",
    "tau_decay_ad_4m = pd.concat(frames1_tau_decay)\n",
    "tau_decay_ad_4m.rename(columns = {0:'tau_decay'}, inplace = True)\n",
    "tau_decay_ad_4m['type'] = ['5xFAD'] * len(np.array(tau_decay_ad_4m['tau_decay']))\n",
    "\n",
    "frames1_rise_rate = [dict_df_rise_rate[k] for k in ad4m]\n",
    "rise_rate_ad_4m = pd.concat(frames1_rise_rate)\n",
    "rise_rate_ad_4m.rename(columns = {0:'rise_rate'}, inplace = True)\n",
    "rise_rate_ad_4m['type'] = ['5xFAD'] * len(np.array(rise_rate_ad_4m['rise_rate']))"
   ]
  },
  {
   "cell_type": "code",
   "execution_count": null,
   "id": "1aca0951",
   "metadata": {},
   "outputs": [],
   "source": [
    "amplitudes_4m = pd.concat([amplitudes_ctrl_4m, amplitudes_ad_4m])\n",
    "tau_decay_4m = pd.concat([tau_decay_ctrl_4m, tau_decay_ad_4m])\n",
    "rise_rate_4m = pd.concat([rise_rate_ctrl_4m, rise_rate_ad_4m])"
   ]
  },
  {
   "cell_type": "code",
   "execution_count": null,
   "id": "1ce3e5f6",
   "metadata": {},
   "outputs": [],
   "source": [
    "sns.set_style(\"whitegrid\")\n",
    "plt.figure(figsize = (10, 10))\n",
    "ax = sns.boxplot(data=amplitudes_4m, x='series', y='Ampl', hue=\"type\", linewidth = 1.3, showfliers=False)\n",
    "add_median_labels(ax)\n",
    "ax.set_title('Amplitudes 3-4 m.o.', fontsize=18)\n",
    "ax.set_xlabel('series', fontsize=18)\n",
    "ax.set_ylabel('Amplitudes, pA', fontsize=18);\n",
    "plt.xticks(fontsize=12, rotation=0)\n",
    "plt.yticks(fontsize=12, rotation=0)\n",
    "plt.legend(fontsize=18)\n",
    "plt.ylim(0,140)\n",
    "plt.savefig('common_res/Amplitudes_3_4_month.png')\n",
    "plt.savefig('common_res/Amplitudes_3_4_month.pdf')\n",
    "plt.show();"
   ]
  },
  {
   "cell_type": "code",
   "execution_count": null,
   "id": "1fc16ce2",
   "metadata": {},
   "outputs": [],
   "source": [
    "amplitudes_ad_4m[amplitudes_ad_4m.series == 'CTRL'].describe()"
   ]
  },
  {
   "cell_type": "code",
   "execution_count": null,
   "id": "1e7084bb",
   "metadata": {},
   "outputs": [],
   "source": [
    "sns.set_style(\"whitegrid\")\n",
    "plt.figure(figsize = (10, 10))\n",
    "ax = sns.boxplot(data=tau_decay_4m, x=\"series\", y=\"tau_decay\", hue=\"type\", linewidth = 1.3, showfliers=False)\n",
    "add_median_labels(ax)\n",
    "ax.set_title('Tau decay 3-4 m.o.', fontsize=18)\n",
    "ax.set_xlabel('series', fontsize=18)\n",
    "ax.set_ylabel('Tau decay, ms', fontsize=18);\n",
    "plt.xticks(fontsize=12, rotation=0)\n",
    "plt.yticks(fontsize=12, rotation=0)\n",
    "plt.legend(fontsize=18)\n",
    "plt.ylim(0,30)\n",
    "plt.savefig('common_res/Tau_decay_3_4_month.png')\n",
    "plt.savefig('common_res/Tau_decay_3_4_month.pdf')\n",
    "plt.show();"
   ]
  },
  {
   "cell_type": "code",
   "execution_count": null,
   "id": "05e55479",
   "metadata": {},
   "outputs": [],
   "source": [
    "sns.set_style(\"whitegrid\")\n",
    "plt.figure(figsize = (10, 10))\n",
    "ax = sns.boxplot(data=rise_rate_4m, x=\"series\", y=\"rise_rate\", hue=\"type\", linewidth = 1.3, showfliers=False)\n",
    "add_median_labels(ax)\n",
    "ax.set_title('Rise rate 3-4 m.o.', fontsize=18)\n",
    "ax.set_xlabel('series', fontsize=18)\n",
    "ax.set_ylabel('Rise rate, pA/ms', fontsize=18);\n",
    "plt.xticks(fontsize=12, rotation=0)\n",
    "plt.yticks(fontsize=12, rotation=0)\n",
    "plt.legend(fontsize=18)\n",
    "plt.ylim(-2,60)\n",
    "plt.savefig('common_res/Rise_rate_3_4_month.png')\n",
    "plt.savefig('common_res/Rise_rate_3_4_month.pdf')\n",
    "plt.show();"
   ]
  },
  {
   "cell_type": "code",
   "execution_count": null,
   "id": "5b79b1d9",
   "metadata": {},
   "outputs": [],
   "source": [
    "frames2_amplitudes = [dict_df_amplitudes[k] for k in ctrl8m]\n",
    "amplitudes_ctrl_8m = pd.concat(frames2_amplitudes)\n",
    "amplitudes_ctrl_8m.rename(columns = {0:'amplitudes'}, inplace = True)\n",
    "amplitudes_ctrl_8m['type'] = ['CTRL'] * len(np.array(amplitudes_ctrl_8m['amplitudes']))\n",
    "\n",
    "frames2_tau_decay = [dict_df_tau_decay[k] for k in ctrl8m]\n",
    "tau_decay_ctrl_8m = pd.concat(frames2_tau_decay)\n",
    "tau_decay_ctrl_8m.rename(columns = {0:'tau_decay'}, inplace = True)\n",
    "tau_decay_ctrl_8m['type'] = ['CTRL'] * len(np.array(tau_decay_ctrl_8m['tau_decay']))\n",
    "\n",
    "frames2_rise_rate = [dict_df_rise_rate[k] for k in ctrl8m]\n",
    "rise_rate_ctrl_8m = pd.concat(frames2_rise_rate)\n",
    "rise_rate_ctrl_8m.rename(columns = {0:'rise_rate'}, inplace = True)\n",
    "rise_rate_ctrl_8m['type'] = ['CTRL'] * len(np.array(rise_rate_ctrl_8m['rise_rate']))"
   ]
  },
  {
   "cell_type": "code",
   "execution_count": null,
   "id": "165b6967",
   "metadata": {},
   "outputs": [],
   "source": [
    "frames3_amplitudes = [dict_df_amplitudes[k] for k in ad8m]\n",
    "amplitudes_ad_8m = pd.concat(frames3_amplitudes)\n",
    "amplitudes_ad_8m.rename(columns = {0:'amplitudes'}, inplace = True)\n",
    "amplitudes_ad_8m['type'] = ['5xFAD'] * len(np.array(amplitudes_ad_8m['amplitudes']))\n",
    "\n",
    "frames3_tau_decay = [dict_df_tau_decay[k] for k in ad8m]\n",
    "tau_decay_ad_8m = pd.concat(frames3_tau_decay)\n",
    "tau_decay_ad_8m.rename(columns = {0:'tau_decay'}, inplace = True)\n",
    "tau_decay_ad_8m['type'] = ['5xFAD'] * len(np.array(tau_decay_ad_8m['tau_decay']))\n",
    "\n",
    "frames3_rise_rate = [dict_df_rise_rate[k] for k in ad8m]\n",
    "rise_rate_ad_8m = pd.concat(frames3_rise_rate)\n",
    "rise_rate_ad_8m.rename(columns = {0:'rise_rate'}, inplace = True)\n",
    "rise_rate_ad_8m['type'] = ['5xFAD'] * len(np.array(rise_rate_ad_8m['rise_rate']))"
   ]
  },
  {
   "cell_type": "code",
   "execution_count": null,
   "id": "6d73befc",
   "metadata": {},
   "outputs": [],
   "source": [
    "amplitudes_8m = pd.concat([amplitudes_ctrl_8m, amplitudes_ad_8m])\n",
    "tau_decay_8m = pd.concat([tau_decay_ctrl_8m, tau_decay_ad_8m])\n",
    "rise_rate_8m = pd.concat([rise_rate_ctrl_8m, rise_rate_ad_8m])"
   ]
  },
  {
   "cell_type": "code",
   "execution_count": null,
   "id": "6effb02e",
   "metadata": {},
   "outputs": [],
   "source": [
    "sns.set_style(\"whitegrid\")\n",
    "plt.figure(figsize = (10, 10))\n",
    "ax = sns.boxplot(data=amplitudes_8m, x=\"series\", y=\"amplitudes\", hue=\"type\", linewidth = 1.3, showfliers=False)\n",
    "add_median_labels(ax)\n",
    "ax.set_title('Amplitudes 7-8 m.o.', fontsize=18)\n",
    "ax.set_xlabel('series', fontsize=18)\n",
    "ax.set_ylabel('Amplitudes, pA', fontsize=18);\n",
    "plt.xticks(fontsize=12, rotation=0)\n",
    "plt.yticks(fontsize=12, rotation=0)\n",
    "plt.legend(fontsize=18)\n",
    "plt.ylim(0,140)\n",
    "plt.savefig('common_res/Amplitudes_7_8_month.png')\n",
    "plt.savefig('common_res/Amplitudes_7_8_month.pdf')\n",
    "plt.show();"
   ]
  },
  {
   "cell_type": "code",
   "execution_count": null,
   "id": "8616e642",
   "metadata": {},
   "outputs": [],
   "source": [
    "sns.set_style(\"whitegrid\")\n",
    "plt.figure(figsize = (10, 10))\n",
    "ax = sns.boxplot(data=tau_decay_8m, x=\"series\", y=\"tau_decay\", hue=\"type\", linewidth = 1.3, showfliers=False)\n",
    "add_median_labels(ax)\n",
    "ax.set_title('Tau decay 7-8 m.o.', fontsize=18)\n",
    "ax.set_xlabel('series', fontsize=18)\n",
    "ax.set_ylabel('Tau decay, ms', fontsize=18);\n",
    "plt.xticks(fontsize=12, rotation=0)\n",
    "plt.yticks(fontsize=12, rotation=0)\n",
    "plt.legend(fontsize=18)\n",
    "plt.ylim(0,30)\n",
    "plt.savefig('common_res/Tau_decay_7_8_month.png')\n",
    "plt.savefig('common_res/Tau_decay_7_8_month.pdf')\n",
    "plt.show();"
   ]
  },
  {
   "cell_type": "code",
   "execution_count": null,
   "id": "fdb93312",
   "metadata": {},
   "outputs": [],
   "source": [
    "sns.set_style(\"whitegrid\")\n",
    "plt.figure(figsize = (10, 10))\n",
    "ax = sns.boxplot(data=rise_rate_8m, x=\"series\", y=\"rise_rate\", hue=\"type\", linewidth = 1.3, showfliers=False)\n",
    "add_median_labels(ax)\n",
    "ax.set_title('Rise rate 7-8 m.o.', fontsize=18)\n",
    "ax.set_xlabel('series', fontsize=18)\n",
    "ax.set_ylabel('Rise rate, pA/ms', fontsize=18);\n",
    "plt.xticks(fontsize=12, rotation=0)\n",
    "plt.yticks(fontsize=12, rotation=0)\n",
    "plt.legend(fontsize=18)\n",
    "plt.ylim(-2,60)\n",
    "plt.savefig('common_res/Rise_rate_7_8_month.png')\n",
    "plt.savefig('common_res/Rise_rate_7_8_month.pdf')\n",
    "plt.show();"
   ]
  },
  {
   "cell_type": "code",
   "execution_count": null,
   "id": "b76d26e1",
   "metadata": {},
   "outputs": [],
   "source": [
    "spont_freqs = {}\n",
    "for f in files:\n",
    "    for item in f:\n",
    "        spont_freqs[item] = pd.read_csv(f'{item}\\spont_freqs.csv')"
   ]
  },
  {
   "cell_type": "code",
   "execution_count": null,
   "id": "00daedc3",
   "metadata": {},
   "outputs": [],
   "source": [
    "ar_ctrl = []\n",
    "for k in ctrl4m:\n",
    "    ar_ctrl.append(spont_freqs[k][spont_freqs[k]['ser']=='CTRL'].values.T[1:][:-2])\n",
    "spont_fr_ctrl_ctrl_4m = []\n",
    "for ar in ar_ctrl:\n",
    "    for k in range(len(ar)):\n",
    "        for i in range(len(ar[k])):\n",
    "            spont_fr_ctrl_ctrl_4m.append(ar[k][i])\n",
    "spont_fr_ctrl_ctrl_4m_no_nan = [item for item in spont_fr_ctrl_ctrl_4m if not(math.isnan(item)) == True]\n",
    "spont_fr_ctrl_ctrl_4m = pd.DataFrame(spont_fr_ctrl_ctrl_4m_no_nan, columns=['spont_freq'])\n",
    "spont_fr_ctrl_ctrl_4m['series'] = ['CTRL'] * len(spont_fr_ctrl_ctrl_4m_no_nan)\n",
    "spont_fr_ctrl_ctrl_4m['type'] = ['CTRL'] * len(spont_fr_ctrl_ctrl_4m_no_nan)\n",
    "\n",
    "ar_gaba1 = []\n",
    "for k in ctrl4m:\n",
    "    ar_gaba1.append(spont_freqs[k][spont_freqs[k]['ser']=='GABA1'].values.T[1:][:-2])\n",
    "spont_fr_gaba1_ctrl_4m = []\n",
    "for ar in ar_gaba1:\n",
    "    for k in range(len(ar)):\n",
    "        for i in range(len(ar[k])):\n",
    "            spont_fr_gaba1_ctrl_4m.append(ar[k][i])\n",
    "spont_fr_gaba1_ctrl_4m_no_nan = [item for item in spont_fr_gaba1_ctrl_4m if not(math.isnan(item)) == True]\n",
    "spont_fr_gaba1_ctrl_4m = pd.DataFrame(spont_fr_gaba1_ctrl_4m_no_nan, columns=['spont_freq'])\n",
    "spont_fr_gaba1_ctrl_4m['series'] = ['GABA1'] * len(spont_fr_gaba1_ctrl_4m_no_nan)\n",
    "spont_fr_gaba1_ctrl_4m['type'] = ['CTRL'] * len(spont_fr_gaba1_ctrl_4m_no_nan)\n",
    "\n",
    "ar_gaba5 = []\n",
    "for k in ctrl4m:\n",
    "    ar_gaba5.append(spont_freqs[k][spont_freqs[k]['ser']=='GABA5'].values.T[1:][:-2])\n",
    "spont_fr_gaba5_ctrl_4m = []\n",
    "for ar in ar_gaba5:\n",
    "    for k in range(len(ar)):\n",
    "        for i in range(len(ar[k])):\n",
    "            spont_fr_gaba5_ctrl_4m.append(ar[k][i])\n",
    "spont_fr_gaba5_ctrl_4m_no_nan = [item for item in spont_fr_gaba5_ctrl_4m if not(math.isnan(item)) == True]\n",
    "spont_fr_gaba5_ctrl_4m = pd.DataFrame(spont_fr_gaba5_ctrl_4m_no_nan, columns=['spont_freq'])\n",
    "spont_fr_gaba5_ctrl_4m['series'] = ['GABA5'] * len(spont_fr_gaba5_ctrl_4m_no_nan)\n",
    "spont_fr_gaba5_ctrl_4m['type'] = ['CTRL'] * len(spont_fr_gaba5_ctrl_4m_no_nan)"
   ]
  },
  {
   "cell_type": "code",
   "execution_count": null,
   "id": "e667ca05",
   "metadata": {},
   "outputs": [],
   "source": [
    "ar_ctrl = []\n",
    "for k in ad4m:\n",
    "    ar_ctrl.append(spont_freqs[k][spont_freqs[k]['ser']=='CTRL'].values.T[1:][:-2])\n",
    "spont_fr_ctrl_ad4m = []\n",
    "for ar in ar_ctrl:\n",
    "    for k in range(len(ar)):\n",
    "        for i in range(len(ar[k])):\n",
    "            spont_fr_ctrl_ad4m.append(ar[k][i])\n",
    "spont_fr_ctrl_ad4m_no_nan = [item for item in spont_fr_ctrl_ad4m if not(math.isnan(item)) == True]\n",
    "spont_fr_ctrl_ad_4m = pd.DataFrame(spont_fr_ctrl_ad4m_no_nan, columns=['spont_freq'])\n",
    "spont_fr_ctrl_ad_4m['series'] = ['CTRL'] * len(spont_fr_ctrl_ad4m_no_nan)\n",
    "spont_fr_ctrl_ad_4m['type'] = ['5xFAD'] * len(spont_fr_ctrl_ad4m_no_nan)\n",
    "\n",
    "ar_gaba1 = []\n",
    "for k in ad4m:\n",
    "    ar_gaba1.append(spont_freqs[k][spont_freqs[k]['ser']=='GABA1'].values.T[1:][:-2])\n",
    "spont_fr_gaba1_ad4m = []\n",
    "for ar in ar_gaba1:\n",
    "    for k in range(len(ar)):\n",
    "        for i in range(len(ar[k])):\n",
    "            spont_fr_gaba1_ad4m.append(ar[k][i])\n",
    "spont_fr_gaba1_ad4m_no_nan = [item for item in spont_fr_gaba1_ad4m if not(math.isnan(item)) == True]\n",
    "spont_fr_gaba1_ad_4m = pd.DataFrame(spont_fr_gaba1_ad4m_no_nan, columns=['spont_freq'])\n",
    "spont_fr_gaba1_ad_4m['series'] = ['GABA1'] * len(spont_fr_gaba1_ad4m_no_nan)\n",
    "spont_fr_gaba1_ad_4m['type'] = ['5xFAD'] * len(spont_fr_gaba1_ad4m_no_nan)\n",
    "\n",
    "ar_gaba5 = []\n",
    "for k in ad4m:\n",
    "    ar_gaba5.append(spont_freqs[k][spont_freqs[k]['ser']=='GABA5'].values.T[1:][:-2])\n",
    "spont_fr_gaba5_ad4m = []\n",
    "for ar in ar_gaba5:\n",
    "    for k in range(len(ar)):\n",
    "        for i in range(len(ar[k])):\n",
    "            spont_fr_gaba5_ad4m.append(ar[k][i])\n",
    "spont_fr_gaba5_ad4m_no_nan = [item for item in spont_fr_gaba5_ad4m if not(math.isnan(item)) == True]\n",
    "spont_fr_gaba5_ad_4m = pd.DataFrame(spont_fr_gaba5_ad4m_no_nan, columns=['spont_freq'])\n",
    "spont_fr_gaba5_ad_4m['series'] = ['GABA5'] * len(spont_fr_gaba5_ad4m_no_nan)\n",
    "spont_fr_gaba5_ad_4m['type'] = ['5xFAD'] * len(spont_fr_gaba5_ad4m_no_nan)"
   ]
  },
  {
   "cell_type": "code",
   "execution_count": null,
   "id": "a4ca81ec",
   "metadata": {},
   "outputs": [],
   "source": [
    "frames4_spont_freq = [spont_fr_ctrl_ctrl_4m, spont_fr_gaba1_ctrl_4m, spont_fr_gaba5_ctrl_4m, spont_fr_ctrl_ad_4m, spont_fr_gaba1_ad_4m, spont_fr_gaba5_ad_4m]\n",
    "spont_freq_ctrl_4m = pd.concat(frames4_spont_freq[:4])\n",
    "spont_freq_ad_4m = pd.concat(frames4_spont_freq[3:])\n",
    "spont_freq_4m = pd.concat(frames4_spont_freq)"
   ]
  },
  {
   "cell_type": "code",
   "execution_count": null,
   "id": "fba2b23c",
   "metadata": {},
   "outputs": [],
   "source": [
    "spont_freq_4m['spont_freq'] = spont_freq_4m['spont_freq'].apply(lambda x: x*1000)"
   ]
  },
  {
   "cell_type": "code",
   "execution_count": null,
   "id": "2566715c",
   "metadata": {},
   "outputs": [],
   "source": [
    "spont_freq_4m"
   ]
  },
  {
   "cell_type": "code",
   "execution_count": null,
   "id": "f601b4cc",
   "metadata": {},
   "outputs": [],
   "source": [
    "sns.set_style(\"whitegrid\")\n",
    "plt.figure(figsize = (10, 10))\n",
    "ax = sns.boxplot(data=spont_freq_4m, x=\"series\", y=\"spont_freq\", hue=\"type\", linewidth = 1.3, showfliers=False)\n",
    "add_median_labels(ax)\n",
    "ax.set_title('Spontaneous frequencies 3-4 m.o.', fontsize=18)\n",
    "ax.set_xlabel('series', fontsize=18)\n",
    "ax.set_ylabel('Spontanious frequencies, mHz', fontsize=18);\n",
    "plt.xticks(fontsize=12, rotation=0)\n",
    "plt.yticks(fontsize=12, rotation=0)\n",
    "plt.legend(fontsize=18)\n",
    "plt.ylim(-5,40)\n",
    "plt.savefig('common_res/Spont_freq_3_4_month.png')\n",
    "plt.savefig('common_res/Spont_freq_3_4_month.pdf')\n",
    "plt.show();"
   ]
  },
  {
   "cell_type": "code",
   "execution_count": null,
   "id": "097c0d10",
   "metadata": {},
   "outputs": [],
   "source": [
    "ar_ctrl = []\n",
    "for k in ctrl8m:\n",
    "    ar_ctrl.append(spont_freqs[k][spont_freqs[k]['ser']=='CTRL'].values.T[1:][:-2])\n",
    "spont_fr_ctrl_ctrl_8m = []\n",
    "for ar in ar_ctrl:\n",
    "    for k in range(len(ar)):\n",
    "        for i in range(len(ar[k])):\n",
    "            spont_fr_ctrl_ctrl_8m.append(ar[k][i])\n",
    "spont_fr_ctrl_ctrl_8m_no_nan = [item for item in spont_fr_ctrl_ctrl_8m if not(math.isnan(item)) == True]\n",
    "spont_fr_ctrl_ctrl_8m = pd.DataFrame(spont_fr_ctrl_ctrl_8m_no_nan, columns=['spont_freq'])\n",
    "spont_fr_ctrl_ctrl_8m['series'] = ['CTRL'] * len(spont_fr_ctrl_ctrl_8m_no_nan)\n",
    "spont_fr_ctrl_ctrl_8m['type'] = ['CTRL'] * len(spont_fr_ctrl_ctrl_8m_no_nan)\n",
    "\n",
    "ar_gaba1 = []\n",
    "for k in ctrl8m:\n",
    "    ar_gaba1.append(spont_freqs[k][spont_freqs[k]['ser']=='GABA1'].values.T[1:][:-2])\n",
    "spont_fr_gaba1_ctrl_8m = []\n",
    "for ar in ar_gaba1:\n",
    "    for k in range(len(ar)):\n",
    "        for i in range(len(ar[k])):\n",
    "            spont_fr_gaba1_ctrl_8m.append(ar[k][i])\n",
    "spont_fr_gaba1_ctrl_8m_no_nan = [item for item in spont_fr_gaba1_ctrl_8m if not(math.isnan(item)) == True]\n",
    "spont_fr_gaba1_ctrl_8m = pd.DataFrame(spont_fr_gaba1_ctrl_8m_no_nan, columns=['spont_freq'])\n",
    "spont_fr_gaba1_ctrl_8m['series'] = ['GABA1'] * len(spont_fr_gaba1_ctrl_8m_no_nan)\n",
    "spont_fr_gaba1_ctrl_8m['type'] = ['CTRL'] * len(spont_fr_gaba1_ctrl_8m_no_nan)\n",
    "\n",
    "ar_gaba5 = []\n",
    "for k in ctrl8m:\n",
    "    ar_gaba5.append(spont_freqs[k][spont_freqs[k]['ser']=='GABA5'].values.T[1:][:-2])\n",
    "spont_fr_gaba5_ctrl_8m = []\n",
    "for ar in ar_gaba5:\n",
    "    for k in range(len(ar)):\n",
    "        for i in range(len(ar[k])):\n",
    "            spont_fr_gaba5_ctrl_8m.append(ar[k][i])\n",
    "spont_fr_gaba5_ctrl_8m_no_nan = [item for item in spont_fr_gaba5_ctrl_8m if not(math.isnan(item)) == True]\n",
    "spont_fr_gaba5_ctrl_8m = pd.DataFrame(spont_fr_gaba5_ctrl_8m_no_nan, columns=['spont_freq'])\n",
    "spont_fr_gaba5_ctrl_8m['series'] = ['GABA5'] * len(spont_fr_gaba5_ctrl_8m_no_nan)\n",
    "spont_fr_gaba5_ctrl_8m['type'] = ['CTRL'] * len(spont_fr_gaba5_ctrl_8m_no_nan)"
   ]
  },
  {
   "cell_type": "code",
   "execution_count": null,
   "id": "fcdea8bf",
   "metadata": {},
   "outputs": [],
   "source": [
    "ar_ctrl = []\n",
    "for k in ad8m:\n",
    "    ar_ctrl.append(spont_freqs[k][spont_freqs[k]['ser']=='CTRL'].values.T[1:][:-2])\n",
    "spont_fr_ctrl_ad8m = []\n",
    "for ar in ar_ctrl:\n",
    "    for k in range(len(ar)):\n",
    "        for i in range(len(ar[k])):\n",
    "            spont_fr_ctrl_ad8m.append(ar[k][i])\n",
    "spont_fr_ctrl_ad8m_no_nan = [item for item in spont_fr_ctrl_ad4m if not(math.isnan(item)) == True]\n",
    "spont_fr_ctrl_ad_8m = pd.DataFrame(spont_fr_ctrl_ad8m_no_nan, columns=['spont_freq'])\n",
    "spont_fr_ctrl_ad_8m['series'] = ['CTRL'] * len(spont_fr_ctrl_ad8m_no_nan)\n",
    "spont_fr_ctrl_ad_8m['type'] = ['5xFAD'] * len(spont_fr_ctrl_ad8m_no_nan)\n",
    "\n",
    "ar_gaba1 = []\n",
    "for k in ad8m:\n",
    "    ar_gaba1.append(spont_freqs[k][spont_freqs[k]['ser']=='GABA1'].values.T[1:][:-2])\n",
    "spont_fr_gaba1_ad8m = []\n",
    "for ar in ar_gaba1:\n",
    "    for k in range(len(ar)):\n",
    "        for i in range(len(ar[k])):\n",
    "            spont_fr_gaba1_ad8m.append(ar[k][i])\n",
    "spont_fr_gaba1_ad8m_no_nan = [item for item in spont_fr_gaba1_ad8m if not(math.isnan(item)) == True]\n",
    "spont_fr_gaba1_ad_8m = pd.DataFrame(spont_fr_gaba1_ad8m_no_nan, columns=['spont_freq'])\n",
    "spont_fr_gaba1_ad_8m['series'] = ['GABA1'] * len(spont_fr_gaba1_ad8m_no_nan)\n",
    "spont_fr_gaba1_ad_8m['type'] = ['5xFAD'] * len(spont_fr_gaba1_ad8m_no_nan)\n",
    "\n",
    "ar_gaba5 = []\n",
    "for k in ad8m:\n",
    "    ar_gaba5.append(spont_freqs[k][spont_freqs[k]['ser']=='GABA5'].values.T[1:][:-2])\n",
    "spont_fr_gaba5_ad8m = []\n",
    "for ar in ar_gaba5:\n",
    "    for k in range(len(ar)):\n",
    "        for i in range(len(ar[k])):\n",
    "            spont_fr_gaba5_ad8m.append(ar[k][i])\n",
    "spont_fr_gaba5_ad8m_no_nan = [item for item in spont_fr_gaba5_ad8m if not(math.isnan(item)) == True]\n",
    "spont_fr_gaba5_ad_8m = pd.DataFrame(spont_fr_gaba5_ad8m_no_nan, columns=['spont_freq'])\n",
    "spont_fr_gaba5_ad_8m['series'] = ['GABA5'] * len(spont_fr_gaba5_ad8m_no_nan)\n",
    "spont_fr_gaba5_ad_8m['type'] = ['5xFAD'] * len(spont_fr_gaba5_ad8m_no_nan)"
   ]
  },
  {
   "cell_type": "code",
   "execution_count": null,
   "id": "080d36ef",
   "metadata": {},
   "outputs": [],
   "source": [
    "frames5_spont_freq = [spont_fr_ctrl_ctrl_8m, spont_fr_gaba1_ctrl_8m, spont_fr_gaba5_ctrl_8m, spont_fr_ctrl_ad_8m, spont_fr_gaba1_ad_8m, spont_fr_gaba5_ad_8m]\n",
    "spont_freq_ctrl_8m = pd.concat([spont_fr_ctrl_ctrl_8m, spont_fr_gaba1_ctrl_8m, spont_fr_gaba5_ctrl_8m])\n",
    "spont_freq_ad_8m = pd.concat([spont_fr_ctrl_ad_8m, spont_fr_gaba1_ad_8m, spont_fr_gaba5_ad_8m])\n",
    "spont_freq_8m = pd.concat(frames5_spont_freq)\n",
    "spont_freq_ad_8m = spont_freq_ad_8m.query(f\"spont_freq != {np.inf}\")"
   ]
  },
  {
   "cell_type": "code",
   "execution_count": null,
   "id": "eb372248",
   "metadata": {},
   "outputs": [],
   "source": [
    "spont_freq_8m['spont_freq'] = spont_freq_8m['spont_freq'].apply(lambda x: x*1000)"
   ]
  },
  {
   "cell_type": "code",
   "execution_count": null,
   "id": "d34e330a",
   "metadata": {},
   "outputs": [],
   "source": [
    "sns.set_style(\"whitegrid\")\n",
    "plt.figure(figsize = (10, 10))\n",
    "ax = sns.boxplot(data=spont_freq_8m, x=\"series\", y=\"spont_freq\", hue=\"type\", linewidth = 1.3, showfliers=False)\n",
    "add_median_labels(ax)\n",
    "ax.set_title('Spontaneous frequencies 7-8 m.o.', fontsize=18)\n",
    "ax.set_xlabel('series', fontsize=18)\n",
    "ax.set_ylabel('Spontanious frequencies, Hz', fontsize=18);\n",
    "plt.xticks(fontsize=12, rotation=0)\n",
    "plt.yticks(fontsize=12, rotation=0)\n",
    "plt.legend(fontsize=18)\n",
    "plt.ylim(-5,40)\n",
    "plt.savefig('common_res/Spont_freq_7_8_month.png')\n",
    "plt.savefig('common_res/Spont_freq_7_8_month.pdf')\n",
    "plt.show();"
   ]
  }
 ],
 "metadata": {
  "kernelspec": {
   "display_name": "Python 3 (ipykernel)",
   "language": "python",
   "name": "python3"
  },
  "language_info": {
   "codemirror_mode": {
    "name": "ipython",
    "version": 3
   },
   "file_extension": ".py",
   "mimetype": "text/x-python",
   "name": "python",
   "nbconvert_exporter": "python",
   "pygments_lexer": "ipython3",
   "version": "3.9.7"
  }
 },
 "nbformat": 4,
 "nbformat_minor": 5
}
